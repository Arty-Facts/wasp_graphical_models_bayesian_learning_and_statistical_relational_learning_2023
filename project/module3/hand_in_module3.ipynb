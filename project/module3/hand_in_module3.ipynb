{
 "cells": [
  {
   "cell_type": "code",
   "execution_count": 1,
   "metadata": {},
   "outputs": [],
   "source": [
    "import numpy as np\n",
    "from itertools import product, combinations, combinations_with_replacement\n",
    "from collections import defaultdict\n",
    "from tqdm import tqdm"
   ]
  },
  {
   "cell_type": "markdown",
   "metadata": {},
   "source": [
    "#### (Inductive logic programming in the context of prop ositional logic) Le p,q,r be propositional variables (6p)\n",
    "\n",
    "Since i find it intreating to apply theory to parties i will try to implement the algorithm in python. My argument for that is that if i can implement it then i probably understand it. I will reason for the answers that the algorithm gives."
   ]
  },
  {
   "cell_type": "markdown",
   "metadata": {},
   "source": [
    "#### Assignment 1"
   ]
  },
  {
   "cell_type": "markdown",
   "metadata": {},
   "source": [
    "(a) Suppose that all the formulas ¬p ∨ r, ¬q ∨ ¬r and p are true. Determine the\n",
    "truth values of q and r."
   ]
  },
  {
   "cell_type": "code",
   "execution_count": 2,
   "metadata": {},
   "outputs": [
    {
     "name": "stdout",
     "output_type": "stream",
     "text": [
      "p=True, q=False, r=True\n"
     ]
    }
   ],
   "source": [
    "true_statements = [\n",
    "    lambda p, q, r: not p or r,\n",
    "    lambda p, q, r: not q or not r,\n",
    "    lambda p, q, r: p,\n",
    "]\n",
    "\n",
    "for p, q, r in product([True, False], repeat=3):\n",
    "    if all(map(lambda f: f(p, q, r), true_statements)):\n",
    "        print(f\"p={p}, q={q}, r={r}\")\n"
   ]
  },
  {
   "cell_type": "markdown",
   "metadata": {},
   "source": [
    "* if p is true then r must be true given true statement ¬p ∨ r.\n",
    "* if r is true then q must be false given true statement ¬q ∨ ¬r.\n",
    "\n",
    "#### Answer 1.a\n",
    "q is false and r is true."
   ]
  },
  {
   "cell_type": "markdown",
   "metadata": {},
   "source": [
    "(b) Construct a CNF φ which avoids N and covers E where:\n",
    "\n",
    "    N = {(0,1,0),(1,0,0),(1,1,0)} and\n",
    "\n",
    "    E = {(0,0,0),(0,0,1),(0,1,1),(1,0,1),(1,1,1)}.\n",
    "    \n",
    "    Try to simplify φ as much as p ossible by removing unnecessary 1 literals (if such\n",
    "    exist)."
   ]
  },
  {
   "cell_type": "code",
   "execution_count": 3,
   "metadata": {},
   "outputs": [
    {
     "name": "stdout",
     "output_type": "stream",
     "text": [
      "Maximally CNF:\n",
      "(p ∨ ¬q ∨ r) ∧ (¬p ∨ q ∨ r) ∧ (¬p ∨ ¬q ∨ r)\n",
      "Simplified CNF:\n",
      "(¬q ∨ r) ∧ (¬p ∨ r)\n"
     ]
    }
   ],
   "source": [
    "# E = np.array([(1,1,0,1),(1,0,1,0),(0,1,1,0),(0,1,0,1),(1,0,1,1)])\n",
    "# N = np.array([(0,0,0,0),(1,1,1,1),(1,1,1,0),(0,1,0,0),(1,0,0,1)])\n",
    "E = np.array([(0,0,0),(0,0,1),(0,1,1),(1,0,1),(1,1,1)])\n",
    "N = np.array([(0,1,0),(1,0,0),(1,1,0)])\n",
    "def covers(cause, statements):\n",
    "    \"\"\"\n",
    "    all positive examples satisfy φ\n",
    "    \"\"\"\n",
    "    cause = np.array(cause, dtype=bool)\n",
    "    covered = np.zeros(len(statements), dtype=bool)\n",
    "    for i, statement in enumerate(statements):\n",
    "        res = list(map(lambda c, s: c if s  else not c, cause, statement))\n",
    "        covered[i] = any(res)\n",
    "    return all(covered)\n",
    "\n",
    "def avoids(cause, statements):\n",
    "    \"\"\"\n",
    "    no negative example satisfy φ\n",
    "    \"\"\"\n",
    "    cause = np.array(cause, dtype=bool)\n",
    "    avoided = np.zeros(len(statements), dtype=bool)\n",
    "    for i, statement in enumerate(statements):\n",
    "        res = list(map(lambda c, s: c if s  else not c, cause, statement))\n",
    "        avoided[i] = all(res)\n",
    "    return not any(avoided)\n",
    "\n",
    "def cause_str(cause):\n",
    "    cause, idxs = cause\n",
    "    return '(' + ' ∨ '.join(map(lambda i: f'{L[i]}' if cause[i] else f'¬{L[i]}', idxs)) + ')'\n",
    "\n",
    "L = ['p', 'q', 'r', 's', 't']\n",
    "\n",
    "def find_H(cause, E, N, maximal=True):\n",
    "    for cause_size in  sorted(range(1, len(E[0])+1), reverse=maximal):\n",
    "        for idxs in combinations(range(len(E[0])), cause_size):\n",
    "            curr_cause = [cause[i] for i in idxs]\n",
    "            if covers(curr_cause, statements=E[:, idxs]) and avoids(curr_cause, statements=N[:, idxs]):\n",
    "                return cause, idxs\n",
    "    return None, None\n",
    "\n",
    "def algorithm(E, N, maximal=True):\n",
    "    \"\"\"\n",
    "    Algorithm 1; producing a maximally general set or simplified set of clauses H which covers E and avoids N\n",
    "    (3.3) in Logic_and_probability_7.pdf\n",
    "    \"\"\"\n",
    "    inxs = []\n",
    "    H = []\n",
    "    used = set()\n",
    "    for cause in N:\n",
    "        cause = [int(not c) for c in cause]\n",
    "        cause, idxs = find_H(cause, E, N, maximal)\n",
    "        if cause is not None:\n",
    "            curr = tuple([cause[i] for i in idxs] + list(idxs))\n",
    "            if curr in used:\n",
    "                continue\n",
    "            used.add(curr)\n",
    "            H.append(cause)\n",
    "            inxs.append(idxs)\n",
    "    return zip(H, inxs)\n",
    "\n",
    "Fi = algorithm(E, N, maximal=True)\n",
    "print('Maximally CNF:')\n",
    "print(' ∧ '.join(map(cause_str, Fi)))\n",
    "\n",
    "Fi = algorithm(E, N, maximal=False)\n",
    "print('Simplified CNF:')\n",
    "print(' ∧ '.join(map(cause_str, Fi)))"
   ]
  },
  {
   "cell_type": "markdown",
   "metadata": {},
   "source": [
    "#### Answer 1.b  \n",
    "Algorithm 1/2; producing a maximally general set or simplified set of clauses H which covers E and avoids N. (3.3) in Logic_and_probability_7.pdf\n",
    "\n",
    "\n",
    "1. φ with Maximally CNF: \n",
    "\n",
    "    (p ∨ ¬q ∨ r) ∧ (¬p ∨ q ∨ r) ∧ (¬p ∨ ¬q ∨ r)\n",
    "\n",
    "2. φ with Simplified CNF: \n",
    "\n",
    "    (¬q ∨ r) ∧ (¬p ∨ r)\n"
   ]
  },
  {
   "cell_type": "markdown",
   "metadata": {},
   "source": [
    "##### In the rest of the assignments L and M refer to the language L and L-structure M that we now define. \n",
    "\n",
    "Let L = {P,Q,R,S,T} where the relation symbols P,Q,R,S,T have arities 1,1,2,2,2, respectively.\n",
    "\n",
    "Let M b e the L-structure with domain M = {1,2,3,...,20} and the following interpretations of the relation symbols:\n",
    "* PM = {1,2,3,4,5,6,7,8,9,10},\n",
    "* QM = {1,2,3,4,5,11,12,13,14,15},\n",
    "* RM = {(i,j) : i ̸= j,1 ≤i ≤5 and 1 ≤j ≤5},\n",
    "* SM = {(2,5),(3,1),(4,3),(1,2),(5,4),(2,3),(4,2),(1,3),(3,5),(4,5)},\n",
    "* TM = {(2,5),(3,1),(4,3),(1,2),(5,4),(3,2),(2,1),(1,4),(2,4),(5,2)}."
   ]
  },
  {
   "cell_type": "code",
   "execution_count": 4,
   "metadata": {},
   "outputs": [],
   "source": [
    "# lets define a base class to work with. it needs to have a name and arity\n",
    "class Base:\n",
    "    name = None\n",
    "    arity = None\n",
    "    def __repr__(self) -> str:\n",
    "        return self.name + '(' + ','.join(map(str, self.args)) + ')'\n",
    "    def __eq__(self, value: object) -> bool:\n",
    "        return value.name == self.name and value.args == self.args\n",
    "    def __hash__(self) -> int:\n",
    "        return hash(self.name) + hash(self.args)\n",
    "    \n",
    "\n",
    "class P(Base):\n",
    "    name = \"P\"\n",
    "    arity = 1\n",
    "    def __init__(self, *args):\n",
    "        self.args = args\n",
    "        assert len(args) == self.arity\n",
    "    \n",
    "class Q(Base):\n",
    "    name = \"Q\"\n",
    "    arity = 1\n",
    "    def __init__(self, *args):\n",
    "        self.args = args\n",
    "        assert len(args) == self.arity\n",
    "\n",
    "class R(Base):\n",
    "    name = \"R\"\n",
    "    arity = 2\n",
    "    def __init__(self, *args):\n",
    "        self.args = args\n",
    "        assert len(args) == self.arity\n",
    "\n",
    "class S(Base):\n",
    "    name = \"S\"\n",
    "    arity = 2\n",
    "    def __init__(self, *args):\n",
    "        self.args = args\n",
    "        assert len(args) == self.arity\n",
    "\n",
    "class T(Base):\n",
    "    name = \"T\"\n",
    "    arity = 2\n",
    "    def __init__(self, *args):\n",
    "        self.args = args\n",
    "        assert len(args) == self.arity\n",
    "        \n",
    "M = list(range(1,21))\n",
    "PM = list(map(P, [1,2,3,4,5,6,7,8,9,10]))\n",
    "QM = list(map(Q, [1,2,3,4,5,11,12,13,14,15]))\n",
    "RM = [R(i,j) for i in range(1,6) for j in range(1,6) if i != j]\n",
    "SM = list(map(S, [2,3,4,1,5,2,4,1,3,4], [5,1,3,2,4,3,2,3,5,5]))\n",
    "TM = list(map(T, [2,3,4,1,5,3,2,1,2,5], [5,1,3,2,4,2,1,4,4,2]))"
   ]
  },
  {
   "cell_type": "markdown",
   "metadata": {},
   "source": [
    "#### Inductive logic programming and concept learning\n",
    "\n",
    "* Would in it be fun to implement the algorithm that helps us to learn concepts? Yes!\n",
    "* Can we use example in the in Logic_and_probability_7.pdf to guide and validate our implementation? Yes!\n",
    "* Is it harder then just solving the assignments by hand? Yes!\n",
    "* Is solving the assignments by hand a good idea? Probably Yes!\n",
    "* Will we implement the algorithm even though it is harder and christmas is coming close? Yes!\n",
    "\n",
    "Thank your patience. Lets get started!\n",
    "\n",
    "PS. I will try to add some comments to the code to make it more readable. Don't skip them pls."
   ]
  },
  {
   "cell_type": "code",
   "execution_count": 5,
   "metadata": {},
   "outputs": [],
   "source": [
    "def valid_combs(arity, variables):\n",
    "    return filter(lambda x: len(set(x)) == len(x), product(range(variables), repeat=arity))\n",
    "    \n",
    "# how do we learn a concept?\n",
    "# lets iterate over all possible concepts!\n",
    "def concept_learning(statement, domain, relations, structures, extra_variables=0, concept_size=2):\n",
    "    # we need to find a concept that is true and false for all relation examples\n",
    "    result = defaultdict(set)\n",
    "    # We need to find a concept that has at least the same amount of variables as the arity as the statement\n",
    "    variables = statement.arity\n",
    "    # lets iterate over all possible concepts of size concept_size\n",
    "    for structs in tqdm(list(combinations_with_replacement(structures, concept_size))):\n",
    "        init_var_stat = list(range(variables))\n",
    "        # lets build and abstract target string\n",
    "        target_str = str(statement(*[f\"x{j}\" for j in init_var_stat]))\n",
    "\n",
    "        # lets iterate possible initializations of the concept\n",
    "        for init_var_concept in product(*[valid_combs(s.arity, variables+extra_variables) for s in list(structs)]):\n",
    "            # if the concept has less variables than the target statement the skip it\n",
    "            if not all(map(lambda x: x in [i for row in init_var_concept for i in row], init_var_stat)):\n",
    "                continue\n",
    "\n",
    "            # lets iterate over all possible truth values\n",
    "            for truths in product([lambda x: x, lambda x: not x], repeat=len(structs)):\n",
    "                # lets build and abstract concept string\n",
    "                truths_str = [\"¬\" if t(False) else \"\" for t in truths]\n",
    "                concept_str = ' ∧ '.join(sorted(set([t+str(s(*[f\"x{i}\" for i in v])) for t, s, v in zip(truths_str, structs, init_var_concept)])))\n",
    "\n",
    "                for d in filter(lambda x: len(set(x)) == len(x), product(domain, repeat=variables)):\n",
    "                    # lets initialize the statement\n",
    "                    stat = statement(*[d[j] for j in init_var_stat])\n",
    "                    # lets check if the statement is true or false for all relations\n",
    "                    target_stat = stat in relations[stat.name]\n",
    "        \n",
    "                    # if we have extra variables we need to iterate over them as well\n",
    "                    for e in product([dom for dom in domain if dom not in d], repeat=extra_variables):\n",
    "                        cd = d + e\n",
    "                        # lets initialize the concept\n",
    "                        concept = [s(*[cd[j] for j in v]) for s, v in zip(structs, init_var_concept)]\n",
    "                        # lets check if the concept is true or false for all relations\n",
    "                        condition_concept = [ t(r) for r, t in zip(map(lambda x: x in relations[x.name], concept), truths) ]\n",
    "                        # lets save the result\n",
    "                        result[(concept_str, target_str, e)].add((all(condition_concept), target_stat))\n",
    "\n",
    "    # we are know have a dictionary with all possible concepts and their truth values\n",
    "    return result\n",
    "\n",
    "# how do we read what concepts we have learned?\n",
    "def parse_result(result):\n",
    "    concepts_eq = set()\n",
    "    concepts_imp = set()\n",
    "    # lets iterate over all concepts\n",
    "    for (c, t, e), examples in result.items():\n",
    "        # lets check if c implies t and t implies c since thats the same as c <-> t\n",
    "        if not any(map(lambda x: x[0] and not x[1], examples)) and not any(map(lambda x: not x[0] and x[1], examples)):\n",
    "            concepts_eq.add(f\"{c} <-> {t}\")\n",
    "        elif not any(map(lambda x: x[0] and not x[1], examples)): # c -> t\n",
    "            concepts_imp.add(f\"{c} -> {t}\")\n",
    "  \n",
    "    # WOW! we have learned some concepts\n",
    "    return concepts_eq, concepts_imp\n",
    "\n"
   ]
  },
  {
   "cell_type": "markdown",
   "metadata": {},
   "source": [
    "#### Lets start by solving the assignments in the Logic_and_probability_7.pdf (3.4.1) "
   ]
  },
  {
   "cell_type": "code",
   "execution_count": 6,
   "metadata": {},
   "outputs": [
    {
     "name": "stderr",
     "output_type": "stream",
     "text": [
      "100%|██████████| 6/6 [00:00<00:00, 342.68it/s]\n"
     ]
    },
    {
     "name": "stdout",
     "output_type": "stream",
     "text": [
      "Concepts: Daughters\n",
      "F(x0) ∧ P(x1,x0) <-> D(x0,x1)\n"
     ]
    },
    {
     "name": "stderr",
     "output_type": "stream",
     "text": [
      "100%|██████████| 10/10 [00:10<00:00,  1.03s/it]"
     ]
    },
    {
     "name": "stdout",
     "output_type": "stream",
     "text": [
      "Concepts: Grandmothers\n",
      "F(x0) ∧ P(x0,x2) ∧ P(x2,x1) <-> G(x0,x1)\n",
      "D(x2,x0) ∧ F(x0) ∧ P(x2,x1) <-> G(x0,x1)\n"
     ]
    },
    {
     "name": "stderr",
     "output_type": "stream",
     "text": [
      "\n"
     ]
    }
   ],
   "source": [
    "# python lacks a scope so we need to define a function to not pollute the global namespace\n",
    "def scope():\n",
    "    class F(Base):\n",
    "        arity = 1\n",
    "        name = \"F\"\n",
    "        def __init__(self, *args):\n",
    "            self.args = args\n",
    "            assert len(args) == F.arity\n",
    "        \n",
    "    class P(Base):\n",
    "        arity = 2\n",
    "        name = \"P\"\n",
    "        def __init__(self, *args):\n",
    "            self.args = args\n",
    "            assert len(args) == P.arity\n",
    "\n",
    "    class D(Base):\n",
    "        arity = 2\n",
    "        name = \"D\"\n",
    "        def __init__(self, *args):\n",
    "            self.args = args\n",
    "            assert len(args) == D.arity\n",
    "\n",
    "    class G(Base):\n",
    "        arity = 2\n",
    "        name = \"G\"\n",
    "        def __init__(self, *args):\n",
    "            self.args = args\n",
    "            assert len(args) == G.arity\n",
    "\n",
    "    A = ['a', 'b', 'e', 'g', 'h', 'm', 'n', 't']\n",
    "\n",
    "    relations = {'F': [F('m'), F('h'), F('e'), F('n')], # (i.e. m,n,e, and n are females),\n",
    "                'P': [P('g', 'm'), P('h', 'm'), P('h', 't'), P('t', 'e'), P('n', 'e'), P('a', 't'), P('e', 'b')], # (i.e. g is a parent of m, h is a parent of m, and so on)\n",
    "                'D': [D('m', 'g'), D('m', 'h'), D('e', 't'), D('e', 'n')], # (i.e. m is a daughter of g)\n",
    "                'G': [G('h', 'e'), G('n', 'b')], # (i.e. h is a grandmother of e, n is a grandmother of b)\n",
    "    }\n",
    "\n",
    "    result = concept_learning(D, A, relations, [F, P, G], extra_variables=0, concept_size=2)\n",
    "    concepts_eq, concepts_imp = parse_result(result)\n",
    "    print('Concepts: Daughters')\n",
    "\n",
    "    for c in concepts_eq:\n",
    "        print(c)\n",
    "\n",
    "    result = concept_learning(G, A, relations, [F, P, D], extra_variables=1, concept_size=3)\n",
    "    concepts_eq, concepts_imp = parse_result(result)\n",
    "    print('Concepts: Grandmothers')\n",
    "\n",
    "    for c in concepts_eq:\n",
    "        print(c)\n",
    "scope()"
   ]
  },
  {
   "cell_type": "markdown",
   "metadata": {},
   "source": [
    "Result:\n",
    "\n",
    "We found the following concept for Daughters:\n",
    "1. F(x1) ∧ P(x0,x1) <-> D(x0,x1)\n",
    "\n",
    "This makes sense witch is good!\n",
    "\n",
    "We found the following concept for Grandmothers:\n",
    "\n",
    "1. F(x0) ∧ P(x2,x1) ∧ P(x0,x2) <-> G(x0,x1)\n",
    "2. F(x0) ∧ P(x2,x1) ∧ D(x2,x0) <-> G(x0,x1)\n",
    "\n",
    "That is cool since we found one that was expected and one that was not expected but makes sense.\n",
    "\n",
    "Ether we are a grandmother to the child of our child or that our mother is a grandmother to our child. \n"
   ]
  },
  {
   "cell_type": "markdown",
   "metadata": {},
   "source": [
    "#### Assignment 2\n",
    "\n",
    "Learning the concept R(x,y): Find literals θ1(x,y),...,θn(x,y) which do not contain R and such that M |= ∀x∀y((θ1(x,y)∧...∧θn(x,y)) → R(x,y)) and M|= ∃x∃y(θ1(x,y)∧...∧θn(x,y)). Observe that a literal denoted θk(x,y) above need not necessarily contain both variables x and y and it may be of the form x = y or ¬(x = y).\n",
    "There may be several possibilities, but to get maximal credit on this assignment you\n",
    "need to find such θ1(x,y),...,θn(x,y) so that \n",
    "\n",
    "$$\n",
    "M|= ∀x∀y((θ1(x,y) ∧... ∧θn(x,y)) ↔R(x,y))\n",
    "$$"
   ]
  },
  {
   "cell_type": "code",
   "execution_count": 7,
   "metadata": {},
   "outputs": [
    {
     "name": "stderr",
     "output_type": "stream",
     "text": [
      "100%|██████████| 35/35 [00:26<00:00,  1.33it/s]"
     ]
    },
    {
     "name": "stdout",
     "output_type": "stream",
     "text": [
      "Concepts: R\n",
      "P(x0) ∧ P(x1) ∧ Q(x0) ∧ Q(x1) <-> R(x0,x1)\n"
     ]
    },
    {
     "name": "stderr",
     "output_type": "stream",
     "text": [
      "\n"
     ]
    }
   ],
   "source": [
    "relations = {'P': PM, 'Q': QM, 'R': RM, 'S': SM, 'T': TM}\n",
    "\n",
    "result = concept_learning(R, M, relations, [P, Q, S, T], extra_variables=0, concept_size=4)\n",
    "concepts_eq, concepts_imp = parse_result(result)\n",
    "print('Concepts: R')\n",
    "for c in concepts_eq:\n",
    "    print(c)\n"
   ]
  },
  {
   "cell_type": "markdown",
   "metadata": {},
   "source": [
    "#### Answer 2\n",
    "\n",
    "Concept a that is learned for R is:\n",
    "$$\n",
    "P(x0) ∧ P(x1) ∧ Q(x0) ∧ Q(x1) <-> R(x0,x1) \n",
    "$$\n",
    "\n",
    "After a solution its easy to see that this is a correct solution. However there might exist other solutions that has a larger set of literals. However the smallest set of literals that gives the correct solution is 4 literals.\n"
   ]
  },
  {
   "cell_type": "markdown",
   "metadata": {},
   "source": [
    "#### Assignment 3\n",
    "(Learning a Bayesian network) Construct a Bayesian network from M in the way explained in Chapter 5.1 using the following order of the formulas, also viewed as random variables from $M^{2}$ to {0,1}: $P(x), P(y), Q(x), Q(y), R(x,y), S(x,y), T(x,y)$. As explained in Chapter 4, we can identify P(x) with a random variable $P_x: $M^{2}$ → {0,1} such that $P_x(a,b)$ = 1 if M |= P(a) and $P_x(a,b)$ = 0 otherwise. P(y) can b e identified with a random variable $P_y: $M^{2}$ → {0,1} such that $P_y(a,b)$ = 1 if M |= P(b) and $P_y(a,b)$ = 0 otherwise. If you need you can use conditions like 'x = y' or 'x ̸= y' when specifying conditions for conditional probabilities (although we don't view such formulas as vertices of the network).\n",
    "\n",
    "It is also possible, and acceptable, to construct a lifted Bayesian network with vertices $P,Q,R,S,T$ (considered in this order) as defined in Definition 6.2.1 in my notes. The procedure will b e essentially the same and you have to do the same calculations. The resulting lifted Bayesian network will b e similar to the one obtained by the first approach, but not identical since the later has 5 vertices while the first has 7. (In the later approach $P(x)$ and $P(y)$ are identified, and $Q(x)$ and $Q(y)$ are identified.) When determining (conditional) independence you can use the usual mathematical definition of independence, as there is no need for \"approximation\" in this assignment. Use the counting measure (i.e. uniform probability distribution) μ : M → R when determining (conditional) probabilities."
   ]
  },
  {
   "cell_type": "code",
   "execution_count": 16,
   "metadata": {},
   "outputs": [],
   "source": [
    "from pgmpy.models import BayesianNetwork\n",
    "from pgmpy.factors.discrete import TabularCPD\n",
    "from pgmpy.inference import VariableElimination"
   ]
  },
  {
   "cell_type": "code",
   "execution_count": 13,
   "metadata": {},
   "outputs": [
    {
     "name": "stderr",
     "output_type": "stream",
     "text": [
      "WARNING:pgmpy:BayesianModel has been renamed to BayesianNetwork. Please use BayesianNetwork class, BayesianModel will be removed in future.\n"
     ]
    }
   ],
   "source": [
    "\n",
    "\n",
    "# Define the network structure\n",
    "model = BayesianNetwork([('Rain', 'WetGrass'), ('Sprinkler', 'WetGrass')])\n",
    "\n",
    "# Define the Conditional Probability Distributions (CPDs)\n",
    "cpd_rain = TabularCPD(variable='Rain', variable_card=2,\n",
    "                      values=[[0.7], [0.3]])\n",
    "\n",
    "cpd_sprinkler = TabularCPD(variable='Sprinkler', variable_card=2,\n",
    "                           values=[[0.6], [0.4]])\n",
    "\n",
    "cpd_wet_grass = TabularCPD(variable='WetGrass', variable_card=2,\n",
    "                           values=[[0.99, 0.01, 0.01, 0.01],\n",
    "                                   [0.01, 0.99, 0.99, 0.99]],\n",
    "                           evidence=['Rain', 'Sprinkler'],\n",
    "                           evidence_card=[2, 2])\n",
    "\n",
    "# Add the CPDs to the model\n",
    "model.add_cpds(cpd_rain, cpd_sprinkler, cpd_wet_grass)\n",
    "\n",
    "# Verify the model\n",
    "assert model.check_model()"
   ]
  },
  {
   "cell_type": "code",
   "execution_count": 11,
   "metadata": {},
   "outputs": [
    {
     "name": "stdout",
     "output_type": "stream",
     "text": [
      "+-------------+-----------------+\n",
      "| WetGrass    |   phi(WetGrass) |\n",
      "+=============+=================+\n",
      "| WetGrass(0) |          0.0100 |\n",
      "+-------------+-----------------+\n",
      "| WetGrass(1) |          0.9900 |\n",
      "+-------------+-----------------+\n"
     ]
    }
   ],
   "source": [
    "\n",
    "infer = VariableElimination(model)\n",
    "posterior_prob = infer.query(variables=['WetGrass'], evidence={'Rain': 1})\n",
    "print(posterior_prob)"
   ]
  },
  {
   "cell_type": "code",
   "execution_count": 15,
   "metadata": {},
   "outputs": [
    {
     "data": {
      "image/png": "[encoded data removed]",
      "text/plain": [
       "<Figure size 640x480 with 1 Axes>"
      ]
     },
     "metadata": {},
     "output_type": "display_data"
    }
   ],
   "source": [
    "import networkx as nx\n",
    "import matplotlib.pyplot as plt\n",
    "\n",
    "# Create a NetworkX graph from the Bayesian model\n",
    "G = nx.DiGraph()\n",
    "for edge in model.edges():\n",
    "    G.add_edge(edge[0], edge[1])\n",
    "\n",
    "# Draw the graph\n",
    "nx.draw(G, with_labels=True, node_size=2000, node_color=\"lightblue\", font_size=20)\n",
    "plt.show()"
   ]
  }
 ],
 "metadata": {
  "kernelspec": {
   "display_name": "venv",
   "language": "python",
   "name": "python3"
  },
  "language_info": {
   "codemirror_mode": {
    "name": "ipython",
    "version": 3
   },
   "file_extension": ".py",
   "mimetype": "text/x-python",
   "name": "python",
   "nbconvert_exporter": "python",
   "pygments_lexer": "ipython3",
   "version": "3.10.11"
  }
 },
 "nbformat": 4,
 "nbformat_minor": 2
}
