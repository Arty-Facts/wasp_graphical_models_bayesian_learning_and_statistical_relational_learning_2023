{
 "cells": [
  {
   "cell_type": "code",
   "execution_count": 223,
   "metadata": {},
   "outputs": [],
   "source": [
    "import numpy as np\n",
    "from itertools import product, combinations, combinations_with_replacement\n",
    "from collections import defaultdict\n",
    "from tqdm import tqdm"
   ]
  },
  {
   "cell_type": "markdown",
   "metadata": {},
   "source": [
    "#### (Inductive logic programming in the context of prop ositional logic) Le p,q,r be propositional variables (6p)\n",
    "\n",
    "Since i find it intreating to apply theory to parties i will try to implement the algorithm in python. My argument for that is that if i can implement it then i probably understand it. I will reason for the answers that the algorithm gives."
   ]
  },
  {
   "cell_type": "markdown",
   "metadata": {},
   "source": [
    "#### Assignment 1"
   ]
  },
  {
   "cell_type": "markdown",
   "metadata": {},
   "source": [
    "1. Suppose that all the formulas ¬p ∨ r, ¬q ∨ ¬r and p are true. Determine the\n",
    "truth values of q and r."
   ]
  },
  {
   "cell_type": "code",
   "execution_count": 3,
   "metadata": {},
   "outputs": [
    {
     "name": "stdout",
     "output_type": "stream",
     "text": [
      "p=True, q=False, r=True\n"
     ]
    }
   ],
   "source": [
    "true_statements = [\n",
    "    lambda p, q, r: not p or r,\n",
    "    lambda p, q, r: not q or not r,\n",
    "    lambda p, q, r: p,\n",
    "]\n",
    "\n",
    "for p, q, r in product([True, False], repeat=3):\n",
    "    if all(map(lambda f: f(p, q, r), true_statements)):\n",
    "        print(f\"p={p}, q={q}, r={r}\")\n"
   ]
  },
  {
   "cell_type": "markdown",
   "metadata": {},
   "source": [
    "* if p is true then r must be true given true statement ¬p ∨ r.\n",
    "* if r is true then q must be false given true statement ¬q ∨ ¬r.\n",
    "\n",
    "Answer: q is false and r is true."
   ]
  },
  {
   "cell_type": "markdown",
   "metadata": {},
   "source": [
    "2. Construct a CNF φ which avoids N and covers E where:\n",
    "\n",
    "    N = {(0,1,0),(1,0,0),(1,1,0)} and\n",
    "\n",
    "    E = {(0,0,0),(0,0,1),(0,1,1),(1,0,1),(1,1,1)}.\n",
    "    \n",
    "    Try to simplify φ as much as p ossible by removing unnecessary 1 literals (if such\n",
    "    exist)."
   ]
  },
  {
   "cell_type": "code",
   "execution_count": 4,
   "metadata": {},
   "outputs": [
    {
     "name": "stdout",
     "output_type": "stream",
     "text": [
      "Maximally CNF:\n",
      "(p ∨ ¬q ∨ r) ∧ (¬p ∨ q ∨ r) ∧ (¬p ∨ ¬q ∨ r)\n",
      "Simplified CNF:\n",
      "(¬q ∨ r) ∧ (¬p ∨ r)\n"
     ]
    }
   ],
   "source": [
    "# E = np.array([(1,1,0,1),(1,0,1,0),(0,1,1,0),(0,1,0,1),(1,0,1,1)])\n",
    "# N = np.array([(0,0,0,0),(1,1,1,1),(1,1,1,0),(0,1,0,0),(1,0,0,1)])\n",
    "E = np.array([(0,0,0),(0,0,1),(0,1,1),(1,0,1),(1,1,1)])\n",
    "N = np.array([(0,1,0),(1,0,0),(1,1,0)])\n",
    "def covers(cause, statements):\n",
    "    \"\"\"\n",
    "    all positive examples satisfy φ\n",
    "    \"\"\"\n",
    "    cause = np.array(cause, dtype=bool)\n",
    "    covered = np.zeros(len(statements), dtype=bool)\n",
    "    for i, statement in enumerate(statements):\n",
    "        res = list(map(lambda c, s: c if s  else not c, cause, statement))\n",
    "        covered[i] = any(res)\n",
    "    return all(covered)\n",
    "\n",
    "def avoids(cause, statements):\n",
    "    \"\"\"\n",
    "    no negative example satisfy φ\n",
    "    \"\"\"\n",
    "    cause = np.array(cause, dtype=bool)\n",
    "    avoided = np.zeros(len(statements), dtype=bool)\n",
    "    for i, statement in enumerate(statements):\n",
    "        res = list(map(lambda c, s: c if s  else not c, cause, statement))\n",
    "        avoided[i] = all(res)\n",
    "    return not any(avoided)\n",
    "\n",
    "def cause_str(cause):\n",
    "    cause, idxs = cause\n",
    "    return '(' + ' ∨ '.join(map(lambda i: f'{L[i]}' if cause[i] else f'¬{L[i]}', idxs)) + ')'\n",
    "\n",
    "L = ['p', 'q', 'r', 's', 't']\n",
    "\n",
    "def find_H(cause, E, N, maximal=True):\n",
    "    for cause_size in  sorted(range(1, len(E[0])+1), reverse=maximal):\n",
    "        for idxs in combinations(range(len(E[0])), cause_size):\n",
    "            curr_cause = [cause[i] for i in idxs]\n",
    "            if covers(curr_cause, statements=E[:, idxs]) and avoids(curr_cause, statements=N[:, idxs]):\n",
    "                return cause, idxs\n",
    "    return None, None\n",
    "\n",
    "def algorithm(E, N, maximal=True):\n",
    "    \"\"\"\n",
    "    Algorithm 1; producing a maximally general set or simplified set of clauses H which covers E and avoids N\n",
    "    (3.3) in Logic_and_probability_7.pdf\n",
    "    \"\"\"\n",
    "    inxs = []\n",
    "    H = []\n",
    "    used = set()\n",
    "    for cause in N:\n",
    "        cause = [int(not c) for c in cause]\n",
    "        cause, idxs = find_H(cause, E, N, maximal)\n",
    "        if cause is not None:\n",
    "            curr = tuple([cause[i] for i in idxs] + list(idxs))\n",
    "            if curr in used:\n",
    "                continue\n",
    "            used.add(curr)\n",
    "            H.append(cause)\n",
    "            inxs.append(idxs)\n",
    "    return zip(H, inxs)\n",
    "\n",
    "Fi = algorithm(E, N, maximal=True)\n",
    "print('Maximally CNF:')\n",
    "print(' ∧ '.join(map(cause_str, Fi)))\n",
    "\n",
    "Fi = algorithm(E, N, maximal=False)\n",
    "print('Simplified CNF:')\n",
    "print(' ∧ '.join(map(cause_str, Fi)))"
   ]
  },
  {
   "cell_type": "markdown",
   "metadata": {},
   "source": [
    "#### Answer:    \n",
    "Algorithm 1/2; producing a maximally general set or simplified set of clauses H which covers E and avoids N. (3.3) in Logic_and_probability_7.pdf\n",
    "\n",
    "\n",
    "1. φ with Maximally CNF: \n",
    "\n",
    "    (p ∨ ¬q ∨ r) ∧ (¬p ∨ q ∨ r) ∧ (¬p ∨ ¬q ∨ r)\n",
    "\n",
    "2. φ with Simplified CNF: \n",
    "\n",
    "    (¬q ∨ r) ∧ (¬p ∨ r)\n"
   ]
  },
  {
   "cell_type": "markdown",
   "metadata": {},
   "source": [
    "#### In the rest of the assignments L and M refer to the language L and L-structure M that we now define. \n",
    "\n",
    "Let L = {P,Q,R,S,T} where the relation symbols P,Q,R,S,T have arities 1,1,2,2,2, respectively.\n",
    "\n",
    "Let M b e the L-structure with domain M = {1,2,3,...,20} and the following interpretations of the relation symbols:\n",
    "* PM = {1,2,3,4,5,6,7,8,9,10},\n",
    "* QM = {1,2,3,4,5,11,12,13,14,15},\n",
    "* RM = {(i,j) : i ̸= j,1 ≤i ≤5 and 1 ≤j ≤5},\n",
    "* SM = {(2,5),(3,1),(4,3),(1,2),(5,4),(2,3),(4,2),(1,3),(3,5),(4,5)},\n",
    "* TM = {(2,5),(3,1),(4,3),(1,2),(5,4),(3,2),(2,1),(1,4),(2,4),(5,2)}."
   ]
  },
  {
   "cell_type": "markdown",
   "metadata": {},
   "source": [
    "#### Inductive logic programming and concept learning\n",
    "\n",
    "* Would in it be fun to implement the algorithm that helps us to learn concepts? Yes!\n",
    "* Can we use example in the in Logic_and_probability_7.pdf to guide and validate our implementation? Yes!\n",
    "* Is it harder then just solving the assignments by hand? Yes!\n",
    "* Is solving the assignments by hand a good idea? Probably Yes!\n",
    "* Will we implement the algorithm even though it is harder and christmas is coming close? Yes!\n",
    "\n",
    "Thank your patience. Lets get started!\n",
    "\n",
    "PS. I will try to add some comments to the code to make it more readable. Don't skip them pls."
   ]
  },
  {
   "cell_type": "code",
   "execution_count": 248,
   "metadata": {},
   "outputs": [],
   "source": [
    "# lets define a base class to work with. it needs to have a name and arity\n",
    "class Base:\n",
    "    name = None\n",
    "    arity = None\n",
    "    def __repr__(self) -> str:\n",
    "        return self.name + '(' + ','.join(map(str, self.args)) + ')'\n",
    "    def __eq__(self, value: object) -> bool:\n",
    "        return value.name == self.name and value.args == self.args\n",
    "    def __hash__(self) -> int:\n",
    "        return hash(self.name) + hash(self.args)\n",
    "\n",
    "# how do we learn a concept?\n",
    "def concept_learning(statement, domain, relations, structures, extra_variables=0, concept_size=2):\n",
    "    # we need to find a concept that is true and false for all relation examples\n",
    "    result = defaultdict(lambda: defaultdict(set))\n",
    "    # We need to find a concept that has at least the same amount of variables as the arity as the statement\n",
    "    variables = statement.arity\n",
    "    # lets iterate over all possible concepts of size concept_size\n",
    "    for structs in tqdm(list(combinations_with_replacement(structures, concept_size))):\n",
    "        # lets se the combines arity of the concept we are currently exploring\n",
    "        combined_arity = sum(map(lambda x: x.arity, structs))\n",
    "        # lets give x0, x1, x2, ... xn to the statement. we can also check x0, x0, ... but that is not necessary\n",
    "        init_var_stat = list(range(variables))\n",
    "        # lets iterate possible initializations of the concept\n",
    "        for init_var_concept in product(range(variables+extra_variables), repeat=combined_arity):\n",
    "            # we need to make sure that the variables in the statement are also in the concept (otherwise we can learn crazy concepts)\n",
    "            if not all(map(lambda x: x in init_var_concept, init_var_stat)):\n",
    "                continue\n",
    "            # lets build and abstract concept string\n",
    "            concept_str = ' ∧ '.join(sorted(set([str(structs[i](*[f\"x{j}\" for j in init_var_concept[i:i+structs[i].arity]])) for i in range(len(structs))])))\n",
    "            concept_str += ' <-> ' + str(statement(*[f\"x{j}\" for j in init_var_stat]))\n",
    "            # lets iterate over all possible values for the variables\n",
    "            for d in product(domain, repeat=variables):\n",
    "                # lets initialize the statement\n",
    "                stat = statement(*[d[j] for j in init_var_stat])\n",
    "                # lets check if the statement is true or false for all relations\n",
    "                condition_stat = stat in relations[stat.name]\n",
    "                # there is allot of redundancy here so lets save the information little bit smarter (we can do better)\n",
    "                valid = []\n",
    "                examples = set()\n",
    "                # if we have extra variables we need to iterate over them as well\n",
    "                for e in product([dom for dom in domain if dom not in d], repeat=extra_variables):\n",
    "                    cd = d + e\n",
    "                    # lets initialize the concept\n",
    "                    concept = [structs[i](*[cd[j] for j in init_var_concept[i:i+structs[i].arity]]) for i in range(len(structs))]\n",
    "                    # lets check if the concept is true or false for all relations\n",
    "                    condition_concept = list(map(lambda x: x in relations[x.name], concept))\n",
    "                    # lets save the example\n",
    "                    examples.add((stat, all(condition_concept) == condition_stat))\n",
    "                    # lets check if the concept are equivalent\n",
    "                    valid.append(all(condition_concept) == condition_stat)\n",
    "                    \n",
    "                result[concept_str][\"truth\"].add(all(valid))\n",
    "                result[concept_str][\"examples\"].update(examples)\n",
    "    # we are know have a dictionary with all possible concepts and their truth value and examples\n",
    "    return result\n",
    "\n",
    "# how do we read what concepts we have learned?\n",
    "def parse_result(result, relations):\n",
    "    concepts = []\n",
    "    # lets iterate over all concepts\n",
    "    for k, v in result.items():\n",
    "        truth = v[\"truth\"]\n",
    "        examples = v[\"examples\"]\n",
    "        # if there latest one set of examples is true then we have and implication  \n",
    "        if any(truth):\n",
    "            valid = True\n",
    "            cls, val = examples.pop()\n",
    "            # but it its true for all relations then we have a equivalence (i think)\n",
    "            for statement in relations[cls.name]:\n",
    "                if (statement, True) not in examples:\n",
    "                    valid = False\n",
    "                    break\n",
    "            if valid:\n",
    "                concepts.append(k)\n",
    "    # WOW! we have learned some concepts\n",
    "    return concepts"
   ]
  },
  {
   "cell_type": "markdown",
   "metadata": {},
   "source": [
    "#### Lets start by solving the assignments in the Logic_and_probability_7.pdf (3.4.1) "
   ]
  },
  {
   "cell_type": "code",
   "execution_count": 241,
   "metadata": {},
   "outputs": [
    {
     "name": "stderr",
     "output_type": "stream",
     "text": [
      "100%|██████████| 6/6 [00:00<00:00, 324.07it/s]\n"
     ]
    },
    {
     "name": "stdout",
     "output_type": "stream",
     "text": [
      "Concepts: Daughters\n",
      "F(x1) ∧ P(x0,x1) <-> D(x0,x1)\n"
     ]
    },
    {
     "name": "stderr",
     "output_type": "stream",
     "text": [
      "100%|██████████| 10/10 [00:04<00:00,  2.09it/s]"
     ]
    },
    {
     "name": "stdout",
     "output_type": "stream",
     "text": [
      "Concepts: Grandmothers\n",
      "F(x0) ∧ P(x2,x1) <-> G(x0,x1)\n",
      "F(x0) ∧ F(x2) ∧ P(x2,x1) <-> G(x0,x1)\n",
      "F(x0) ∧ P(x0,x2) ∧ P(x2,x1) <-> G(x0,x1)\n"
     ]
    },
    {
     "name": "stderr",
     "output_type": "stream",
     "text": [
      "\n"
     ]
    }
   ],
   "source": [
    "class F(Base):\n",
    "    arity = 1\n",
    "    name = \"F\"\n",
    "    def __init__(self, *args):\n",
    "        self.args = args\n",
    "        assert len(args) == F.arity\n",
    "    \n",
    "class P(Base):\n",
    "    arity = 2\n",
    "    name = \"P\"\n",
    "    def __init__(self, *args):\n",
    "        self.args = args\n",
    "        assert len(args) == P.arity\n",
    "\n",
    "class D(Base):\n",
    "    arity = 2\n",
    "    name = \"D\"\n",
    "    def __init__(self, *args):\n",
    "        self.args = args\n",
    "        assert len(args) == D.arity\n",
    "\n",
    "class G(Base):\n",
    "    arity = 2\n",
    "    name = \"G\"\n",
    "    def __init__(self, *args):\n",
    "        self.args = args\n",
    "        assert len(args) == G.arity\n",
    "\n",
    "A = ['a', 'b', 'e', 'g', 'h', 'm', 'n', 't']\n",
    "\n",
    "relations = {'F': [F('m'), F('h'), F('e'), F('n')], # (i.e. m,n,e, and n are females),\n",
    "             'P': [P('g', 'm'), P('h', 'm'), P('h', 't'), P('t', 'e'), P('n', 'e'), P('a', 't'), P('e', 'b')], # (i.e. g is a parent of m, h is a parent of m, and so on)\n",
    "             'D': [D('g', 'm'), D('h', 'm'), D('t', 'e'), D('n', 'e')], # (i.e. g is a daughter of m, h is a daughter of m, and so on)\n",
    "             'G': [G('h', 'e'), G('n', 'b')], # (i.e. h is a grandmother of e, n is a grandmother of b)\n",
    "}\n",
    "\n",
    "\n",
    "result = concept_learning(D, A, relations, [F, P, G], extra_variables=0, concept_size=2)\n",
    "concepts = parse_result(result, relations)\n",
    "print('Concepts: Daughters')\n",
    "\n",
    "for c in concepts:\n",
    "    print(c)\n",
    "\n",
    "result = concept_learning(G, A, relations, [F, P, D], extra_variables=1, concept_size=3)\n",
    "concepts = parse_result(result, relations)\n",
    "print('Concepts: Grandmothers')\n",
    "\n",
    "for c in concepts:\n",
    "    print(c)"
   ]
  },
  {
   "cell_type": "markdown",
   "metadata": {},
   "source": [
    "Result:\n",
    "\n",
    "We faund the following concept for Daughters:\n",
    "1. F(x1) ∧ P(x0,x1) <-> D(x0,x1)\n",
    "\n",
    "This makes sense witch is good!\n",
    "\n",
    "We faund the following concept for Grandmothers:\n",
    "\n",
    "1. F(x0) ∧ P(x2,x1) <-> G(x0,x1)\n",
    "2. F(x0) ∧ F(x2) ∧ P(x2,x1) <-> G(x0,x1)\n",
    "3. F(x0) ∧ P(x0,x2) ∧ P(x2,x1) <-> G(x0,x1)\n",
    "\n",
    "To be honest i don't understand the first and second concept. The third concept makes me happy inside.\n",
    "when adding extra variables to the concept it becomes more general. \n",
    "\n",
    "I can not argue that the first concept is wrong because if you are a female and you are a grandmother  then there exist a child and that child has a parent that you are a grandmother to. \n",
    "\n",
    "The same argument holds for the second concept its just that the parent of the child is a mother.\n",
    "\n",
    "There exist counter examples for all concepts with the extra variable. However this holds for all concepts \n",
    "\n",
    "$$\n",
    "A|= ∀x∀y∀z(((F(x) ∧ P(z,y))→G(x,y))\\ and\\ A|= ∃x∃y∃z((F(x) ∧ P(z,y)).\n",
    "$$\n",
    "$$\n",
    "A|= ∀x∀y∀z(((F(x) ∧ P(z,y)) ↔G(x,y)).\n",
    "$$\n",
    "\n",
    "\n",
    "$$\n",
    "A|= ∀x∀y∀z(((F(x) ∧ F(z) ∧ P(z,y))→G(x,y))\\ and\\ A|= ∃x∃y∃z((F(x) ∧ F(z) ∧ P(z,y)).\n",
    "$$\n",
    "$$\n",
    "A|= ∀x∀y∀z(((F(x) ∧ F(z) ∧ P(z,y)) ↔G(x,y)).\n",
    "$$\n",
    "\n",
    "\n",
    "$$\n",
    "A|= ∀x∀y∀z(((F(x) ∧ P(x,z) ∧ P(z,y))→G(x,y))\\ and\\ A|= ∃x∃y∃z((F(x) ∧ P(x,z) ∧ P(z,y)).\n",
    "$$\n",
    "$$\n",
    "A|= ∀x∀y∀z(((F(x) ∧ P(x,z) ∧ P(z,y) ) ↔G(x,y)).\n",
    "$$\n",
    "\n",
    "Im not sure if this is the right way to argue but feel free to correct me!\n"
   ]
  },
  {
   "cell_type": "markdown",
   "metadata": {},
   "source": [
    "#### Assignment 2\n",
    "\n",
    "Learning the concept R(x,y): Find literals θ1(x,y),...,θn(x,y) which do not contain R and such that M |= ∀x∀y((θ1(x,y)∧...∧θn(x,y)) → R(x,y)) and M|= ∃x∃y(θ1(x,y)∧...∧θn(x,y)). Observe that a literal denoted θk(x,y) above need not necessarily contain both variables x and y and it may be of the form x = y or ¬(x = y).\n",
    "There may be several possibilities, but to get maximal credit on this assignment you\n",
    "need to find such θ1(x,y),...,θn(x,y) so that \n",
    "\n",
    "$$\n",
    "M|= ∀x∀y((θ1(x,y) ∧... ∧θn(x,y)) ↔R(x,y))\n",
    "$$"
   ]
  },
  {
   "cell_type": "code",
   "execution_count": 249,
   "metadata": {},
   "outputs": [
    {
     "name": "stderr",
     "output_type": "stream",
     "text": [
      " 20%|██        | 7/35 [07:53<38:41, 82.91s/it]"
     ]
    }
   ],
   "source": [
    "class P(Base):\n",
    "    name = \"P\"\n",
    "    arity = 1\n",
    "    def __init__(self, *args):\n",
    "        self.args = args\n",
    "        assert len(args) == self.arity\n",
    "    \n",
    "class Q(Base):\n",
    "    name = \"Q\"\n",
    "    arity = 1\n",
    "    def __init__(self, *args):\n",
    "        self.args = args\n",
    "        assert len(args) == self.arity\n",
    "\n",
    "class R(Base):\n",
    "    name = \"R\"\n",
    "    arity = 2\n",
    "    def __init__(self, *args):\n",
    "        self.args = args\n",
    "        assert len(args) == self.arity\n",
    "\n",
    "class S(Base):\n",
    "    name = \"S\"\n",
    "    arity = 2\n",
    "    def __init__(self, *args):\n",
    "        self.args = args\n",
    "        assert len(args) == self.arity\n",
    "\n",
    "class T(Base):\n",
    "    name = \"T\"\n",
    "    arity = 2\n",
    "    def __init__(self, *args):\n",
    "        self.args = args\n",
    "        assert len(args) == self.arity\n",
    "        \n",
    "M = list(range(1,16)) # we dont need to check for all 20 objects in the domain since we know that 1-15 are in the structure\n",
    "PM = list(map(P, [1,2,3,4,5,6,7,8,9,10]))\n",
    "QM = list(map(Q, [1,2,3,4,5,11,12,13,14,15]))\n",
    "RM = [R(i,j) for i in range(1,6) for j in range(1,6) if i != j]\n",
    "SM = list(map(S, [2,3,4,1,5,2,4,1,3,4], [5,1,3,2,4,3,2,3,5,5]))\n",
    "TM = list(map(T, [2,3,4,1,5,3,2,1,2,5], [5,1,3,2,4,2,1,4,4,2]))\n",
    "relations = {'P': PM, 'Q': QM, 'R': RM, 'S': SM, 'T': TM}\n",
    "\n",
    "result = concept_learning(R, M, relations, [P, Q, S, T], extra_variables=2, concept_size=4)\n",
    "concepts = parse_result(result, relations)\n",
    "print('Concepts: R')\n",
    "for c in concepts:\n",
    "    print(c)\n"
   ]
  },
  {
   "cell_type": "code",
   "execution_count": 247,
   "metadata": {},
   "outputs": [
    {
     "name": "stdout",
     "output_type": "stream",
     "text": [
      "(1, 2, 1)\n",
      "(1, 2, 2)\n",
      "(1, 2, 3)\n",
      "(1, 3, 1)\n",
      "(1, 3, 2)\n",
      "(1, 3, 3)\n"
     ]
    }
   ],
   "source": [
    "for p in product([1], [2,3], [1,2,3]):\n",
    "    print(p)"
   ]
  }
 ],
 "metadata": {
  "kernelspec": {
   "display_name": "venv",
   "language": "python",
   "name": "python3"
  },
  "language_info": {
   "codemirror_mode": {
    "name": "ipython",
    "version": 3
   },
   "file_extension": ".py",
   "mimetype": "text/x-python",
   "name": "python",
   "nbconvert_exporter": "python",
   "pygments_lexer": "ipython3",
   "version": "3.10.11"
  }
 },
 "nbformat": 4,
 "nbformat_minor": 2
}
