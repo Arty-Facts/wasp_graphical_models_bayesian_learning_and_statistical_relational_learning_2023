{
 "cells": [
  {
   "cell_type": "code",
   "execution_count": 1,
   "metadata": {},
   "outputs": [],
   "source": [
    "import numpy as np\n",
    "from itertools import product, combinations, combinations_with_replacement, permutations\n",
    "from collections import defaultdict\n",
    "from tqdm import tqdm"
   ]
  },
  {
   "cell_type": "markdown",
   "metadata": {},
   "source": [
    "#### (Inductive logic programming in the context of prop ositional logic) Le p,q,r be propositional variables (6p)\n",
    "\n",
    "Since i find it intreating to apply theory to parties i will try to implement the algorithm in python. My argument for that is that if i can implement it then i probably understand it. I will reason for the answers that the algorithm gives."
   ]
  },
  {
   "cell_type": "markdown",
   "metadata": {},
   "source": [
    "#### Assignment 1"
   ]
  },
  {
   "cell_type": "markdown",
   "metadata": {},
   "source": [
    "(a) Suppose that all the formulas ¬p ∨ r, ¬q ∨ ¬r and p are true. Determine the\n",
    "truth values of q and r."
   ]
  },
  {
   "cell_type": "code",
   "execution_count": 2,
   "metadata": {},
   "outputs": [
    {
     "name": "stdout",
     "output_type": "stream",
     "text": [
      "p=True, q=False, r=True\n"
     ]
    }
   ],
   "source": [
    "true_statements = [\n",
    "    lambda p, q, r: not p or r,\n",
    "    lambda p, q, r: not q or not r,\n",
    "    lambda p, q, r: p,\n",
    "]\n",
    "\n",
    "for p, q, r in product([True, False], repeat=3):\n",
    "    if all(map(lambda f: f(p, q, r), true_statements)):\n",
    "        print(f\"p={p}, q={q}, r={r}\")\n"
   ]
  },
  {
   "cell_type": "markdown",
   "metadata": {},
   "source": [
    "* if p is true then r must be true given true statement ¬p ∨ r.\n",
    "* if r is true then q must be false given true statement ¬q ∨ ¬r.\n",
    "\n",
    "#### Answer 1.a\n",
    "q is false and r is true."
   ]
  },
  {
   "cell_type": "markdown",
   "metadata": {},
   "source": [
    "(b) Construct a CNF φ which avoids N and covers E where:\n",
    "\n",
    "    N = {(0,1,0),(1,0,0),(1,1,0)} and\n",
    "\n",
    "    E = {(0,0,0),(0,0,1),(0,1,1),(1,0,1),(1,1,1)}.\n",
    "    \n",
    "    Try to simplify φ as much as p ossible by removing unnecessary 1 literals (if such\n",
    "    exist)."
   ]
  },
  {
   "cell_type": "code",
   "execution_count": 3,
   "metadata": {},
   "outputs": [
    {
     "name": "stdout",
     "output_type": "stream",
     "text": [
      "Maximally CNF:\n",
      "(p ∨ ¬q ∨ r) ∧ (¬p ∨ q ∨ r) ∧ (¬p ∨ ¬q ∨ r)\n",
      "Simplified CNF:\n",
      "(¬q ∨ r) ∧ (¬p ∨ r)\n"
     ]
    }
   ],
   "source": [
    "# E = np.array([(1,1,0,1),(1,0,1,0),(0,1,1,0),(0,1,0,1),(1,0,1,1)])\n",
    "# N = np.array([(0,0,0,0),(1,1,1,1),(1,1,1,0),(0,1,0,0),(1,0,0,1)])\n",
    "E = np.array([(0,0,0),(0,0,1),(0,1,1),(1,0,1),(1,1,1)])\n",
    "N = np.array([(0,1,0),(1,0,0),(1,1,0)])\n",
    "def covers(cause, statements):\n",
    "    \"\"\"\n",
    "    all positive examples satisfy φ\n",
    "    \"\"\"\n",
    "    cause = np.array(cause, dtype=bool)\n",
    "    covered = np.zeros(len(statements), dtype=bool)\n",
    "    for i, statement in enumerate(statements):\n",
    "        res = list(map(lambda c, s: c if s  else not c, cause, statement))\n",
    "        covered[i] = any(res)\n",
    "    return all(covered)\n",
    "\n",
    "def avoids(cause, statements):\n",
    "    \"\"\"\n",
    "    no negative example satisfy φ\n",
    "    \"\"\"\n",
    "    cause = np.array(cause, dtype=bool)\n",
    "    avoided = np.zeros(len(statements), dtype=bool)\n",
    "    for i, statement in enumerate(statements):\n",
    "        res = list(map(lambda c, s: c if s  else not c, cause, statement))\n",
    "        avoided[i] = all(res)\n",
    "    return not any(avoided)\n",
    "\n",
    "def cause_str(cause):\n",
    "    cause, idxs = cause\n",
    "    return '(' + ' ∨ '.join(map(lambda i: f'{L[i]}' if cause[i] else f'¬{L[i]}', idxs)) + ')'\n",
    "\n",
    "L = ['p', 'q', 'r', 's', 't']\n",
    "\n",
    "def find_H(cause, E, N, maximal=True):\n",
    "    for cause_size in  sorted(range(1, len(E[0])+1), reverse=maximal):\n",
    "        for idxs in combinations(range(len(E[0])), cause_size):\n",
    "            curr_cause = [cause[i] for i in idxs]\n",
    "            if covers(curr_cause, statements=E[:, idxs]) and avoids(curr_cause, statements=N[:, idxs]):\n",
    "                return cause, idxs\n",
    "    return None, None\n",
    "\n",
    "def algorithm(E, N, maximal=True):\n",
    "    \"\"\"\n",
    "    Algorithm 1; producing a maximally general set or simplified set of clauses H which covers E and avoids N\n",
    "    (3.3) in Logic_and_probability_7.pdf\n",
    "    \"\"\"\n",
    "    inxs = []\n",
    "    H = []\n",
    "    used = set()\n",
    "    for cause in N:\n",
    "        cause = [int(not c) for c in cause]\n",
    "        cause, idxs = find_H(cause, E, N, maximal)\n",
    "        if cause is not None:\n",
    "            curr = tuple([cause[i] for i in idxs] + list(idxs))\n",
    "            if curr in used:\n",
    "                continue\n",
    "            used.add(curr)\n",
    "            H.append(cause)\n",
    "            inxs.append(idxs)\n",
    "    return zip(H, inxs)\n",
    "\n",
    "Fi = algorithm(E, N, maximal=True)\n",
    "print('Maximally CNF:')\n",
    "print(' ∧ '.join(map(cause_str, Fi)))\n",
    "\n",
    "Fi = algorithm(E, N, maximal=False)\n",
    "print('Simplified CNF:')\n",
    "print(' ∧ '.join(map(cause_str, Fi)))"
   ]
  },
  {
   "cell_type": "markdown",
   "metadata": {},
   "source": [
    "#### Answer 1.b  \n",
    "Algorithm 1/2; producing a maximally general set or simplified set of clauses H which covers E and avoids N. (3.3) in Logic_and_probability_7.pdf\n",
    "\n",
    "\n",
    "1. φ with Maximally CNF: \n",
    "\n",
    "    (p ∨ ¬q ∨ r) ∧ (¬p ∨ q ∨ r) ∧ (¬p ∨ ¬q ∨ r)\n",
    "\n",
    "2. φ with Simplified CNF: \n",
    "\n",
    "    (¬q ∨ r) ∧ (¬p ∨ r)\n"
   ]
  },
  {
   "cell_type": "markdown",
   "metadata": {},
   "source": [
    "##### In the rest of the assignments L and M refer to the language L and L-structure M that we now define. \n",
    "\n",
    "Let L = {P,Q,R,S,T} where the relation symbols P,Q,R,S,T have arities 1,1,2,2,2, respectively.\n",
    "\n",
    "Let M b e the L-structure with domain M = {1,2,3,...,20} and the following interpretations of the relation symbols:\n",
    "* PM = {1,2,3,4,5,6,7,8,9,10},\n",
    "* QM = {1,2,3,4,5,11,12,13,14,15},\n",
    "* RM = {(i,j) : i ̸= j,1 ≤i ≤5 and 1 ≤j ≤5},\n",
    "* SM = {(2,5),(3,1),(4,3),(1,2),(5,4),(2,3),(4,2),(1,3),(3,5),(4,5)},\n",
    "* TM = {(2,5),(3,1),(4,3),(1,2),(5,4),(3,2),(2,1),(1,4),(2,4),(5,2)}."
   ]
  },
  {
   "cell_type": "code",
   "execution_count": 20,
   "metadata": {},
   "outputs": [],
   "source": [
    "# lets define a base class to work with. it needs to have a name and arity\n",
    "class Base:\n",
    "    name = None\n",
    "    arity = None\n",
    "    def __repr__(self) -> str:\n",
    "        return self.name + '(' + ','.join(map(str, self.args)) + ')'\n",
    "    def __eq__(self, value: object) -> bool:\n",
    "        return value.name == self.name and value.args == self.args\n",
    "    def __hash__(self) -> int:\n",
    "        return hash(self.name) + hash(self.args)\n",
    "    \n",
    "\n",
    "class P(Base):\n",
    "    name = \"P\"\n",
    "    arity = 1\n",
    "    def __init__(self, *args):\n",
    "        self.args = args\n",
    "        assert len(args) == self.arity\n",
    "    \n",
    "class Q(Base):\n",
    "    name = \"Q\"\n",
    "    arity = 1\n",
    "    def __init__(self, *args):\n",
    "        self.args = args\n",
    "        assert len(args) == self.arity\n",
    "\n",
    "class R(Base):\n",
    "    name = \"R\"\n",
    "    arity = 2\n",
    "    def __init__(self, *args):\n",
    "        self.args = args\n",
    "        assert len(args) == self.arity\n",
    "\n",
    "class S(Base):\n",
    "    name = \"S\"\n",
    "    arity = 2\n",
    "    def __init__(self, *args):\n",
    "        self.args = args\n",
    "        assert len(args) == self.arity\n",
    "\n",
    "class T(Base):\n",
    "    name = \"T\"\n",
    "    arity = 2\n",
    "    def __init__(self, *args):\n",
    "        self.args = args\n",
    "        assert len(args) == self.arity\n",
    "        \n",
    "M = set(range(1,21))\n",
    "PM = set(map(P, [1,2,3,4,5,6,7,8,9,10]))\n",
    "QM = set(map(Q, [1,2,3,4,5,11,12,13,14,15]))\n",
    "RM = {R(i,j) for i in range(1,6) for j in range(1,6) if i != j}\n",
    "SM = set(map(S, [2,3,4,1,5,2,4,1,3,4], [5,1,3,2,4,3,2,3,5,5]))\n",
    "TM = set(map(T, [2,3,4,1,5,3,2,1,2,5], [5,1,3,2,4,2,1,4,4,2]))"
   ]
  },
  {
   "cell_type": "markdown",
   "metadata": {},
   "source": [
    "#### Inductive logic programming and concept learning\n",
    "\n",
    "* Would in it be fun to implement the algorithm that helps us to learn concepts? Yes!\n",
    "* Can we use example in the in Logic_and_probability_7.pdf to guide and validate our implementation? Yes!\n",
    "* Is it harder then just solving the assignments by hand? Yes!\n",
    "* Is solving the assignments by hand a good idea? Probably Yes!\n",
    "* Will we implement the algorithm even though it is harder and christmas is coming close? Yes!\n",
    "\n",
    "Thank your patience. Lets get started!\n",
    "\n",
    "PS. I will try to add some comments to the code to make it more readable. Don't skip them pls."
   ]
  },
  {
   "cell_type": "code",
   "execution_count": 16,
   "metadata": {},
   "outputs": [],
   "source": [
    "def valid_combs(arity, variables):\n",
    "    return filter(lambda x: len(set(x)) == len(x), product(range(variables), repeat=arity))\n",
    "    \n",
    "# how do we learn a concept?\n",
    "# lets iterate over all possible concepts!\n",
    "def concept_learning(statement, domain, relations, structures, extra_variables=0, concept_size=2):\n",
    "    # we need to find a concept that is true and false for all relation examples\n",
    "    result = defaultdict(set)\n",
    "    # We need to find a concept that has at least the same amount of variables as the arity as the statement\n",
    "    variables = statement.arity\n",
    "    # lets iterate over all possible concepts of size concept_size\n",
    "    for structs in tqdm(list(combinations_with_replacement(structures, concept_size))):\n",
    "        init_var_stat = list(range(variables))\n",
    "        # lets build and abstract target string\n",
    "        target_str = str(statement(*[f\"x{j}\" for j in init_var_stat]))\n",
    "\n",
    "        # lets iterate possible initializations of the concept\n",
    "        for init_var_concept in product(*[valid_combs(s.arity, variables+extra_variables) for s in list(structs)]):\n",
    "            # if the concept has less variables than the target statement the skip it\n",
    "            if not all(map(lambda x: x in [i for row in init_var_concept for i in row], init_var_stat)):\n",
    "                continue\n",
    "\n",
    "            # lets iterate over all possible truth values\n",
    "            for truths in product([lambda x: x, lambda x: not x], repeat=len(structs)):\n",
    "                # lets build and abstract concept string\n",
    "                truths_str = [\"¬\" if t(False) else \"\" for t in truths]\n",
    "                concept_str = ' ∧ '.join(sorted(set([t+str(s(*[f\"x{i}\" for i in v])) for t, s, v in zip(truths_str, structs, init_var_concept)])))\n",
    "\n",
    "                for d in filter(lambda x: len(set(x)) == len(x), product(domain, repeat=variables)):\n",
    "                    # lets initialize the statement\n",
    "                    stat = statement(*[d[j] for j in init_var_stat])\n",
    "                    # lets check if the statement is true or false for all relations\n",
    "                    target_stat = stat in relations[stat.name]\n",
    "        \n",
    "                    # if we have extra variables we need to iterate over them as well\n",
    "                    for e in product([dom for dom in domain if dom not in d], repeat=extra_variables):\n",
    "                        cd = d + e\n",
    "                        # lets initialize the concept\n",
    "                        concept = [s(*[cd[j] for j in v]) for s, v in zip(structs, init_var_concept)]\n",
    "                        # lets check if the concept is true or false for all relations\n",
    "                        condition_concept = [ t(r) for r, t in zip(map(lambda x: x in relations[x.name], concept), truths) ]\n",
    "                        # lets save the result\n",
    "                        result[(concept_str, target_str, e)].add((all(condition_concept), target_stat))\n",
    "\n",
    "    # we are know have a dictionary with all possible concepts and their truth values\n",
    "    return result\n",
    "\n",
    "# how do we read what concepts we have learned?\n",
    "def parse_result(result):\n",
    "    concepts_eq = set()\n",
    "    concepts_imp = set()\n",
    "    # lets iterate over all concepts\n",
    "    for (c, t, e), examples in result.items():\n",
    "        # lets check if c implies t and t implies c since thats the same as c <-> t\n",
    "        if not any(map(lambda x: x[0] and not x[1], examples)) and not any(map(lambda x: not x[0] and x[1], examples)):\n",
    "            concepts_eq.add(f\"{c} <-> {t}\")\n",
    "        elif not any(map(lambda x: x[0] and not x[1], examples)): # c -> t\n",
    "            concepts_imp.add(f\"{c} -> {t}\")\n",
    "  \n",
    "    # WOW! we have learned some concepts\n",
    "    return concepts_eq, concepts_imp\n",
    "\n"
   ]
  },
  {
   "cell_type": "markdown",
   "metadata": {},
   "source": [
    "#### Lets start by solving the assignments in the Logic_and_probability_7.pdf (3.4.1) "
   ]
  },
  {
   "cell_type": "code",
   "execution_count": 17,
   "metadata": {},
   "outputs": [
    {
     "name": "stderr",
     "output_type": "stream",
     "text": [
      "100%|██████████| 6/6 [00:00<00:00, 399.51it/s]\n"
     ]
    },
    {
     "name": "stdout",
     "output_type": "stream",
     "text": [
      "Concepts: Daughters\n",
      "F(x0) ∧ P(x1,x0) <-> D(x0,x1)\n"
     ]
    },
    {
     "name": "stderr",
     "output_type": "stream",
     "text": [
      "100%|██████████| 10/10 [00:07<00:00,  1.29it/s]"
     ]
    },
    {
     "name": "stdout",
     "output_type": "stream",
     "text": [
      "Concepts: Grandmothers\n",
      "D(x2,x0) ∧ F(x0) ∧ P(x2,x1) <-> G(x0,x1)\n",
      "F(x0) ∧ P(x0,x2) ∧ P(x2,x1) <-> G(x0,x1)\n"
     ]
    },
    {
     "name": "stderr",
     "output_type": "stream",
     "text": [
      "\n"
     ]
    }
   ],
   "source": [
    "# python lacks a scope so we need to define a function to not pollute the global namespace\n",
    "def scope():\n",
    "    class F(Base):\n",
    "        arity = 1\n",
    "        name = \"F\"\n",
    "        def __init__(self, *args):\n",
    "            self.args = args\n",
    "            assert len(args) == F.arity\n",
    "        \n",
    "    class P(Base):\n",
    "        arity = 2\n",
    "        name = \"P\"\n",
    "        def __init__(self, *args):\n",
    "            self.args = args\n",
    "            assert len(args) == P.arity\n",
    "\n",
    "    class D(Base):\n",
    "        arity = 2\n",
    "        name = \"D\"\n",
    "        def __init__(self, *args):\n",
    "            self.args = args\n",
    "            assert len(args) == D.arity\n",
    "\n",
    "    class G(Base):\n",
    "        arity = 2\n",
    "        name = \"G\"\n",
    "        def __init__(self, *args):\n",
    "            self.args = args\n",
    "            assert len(args) == G.arity\n",
    "\n",
    "    A = ['a', 'b', 'e', 'g', 'h', 'm', 'n', 't']\n",
    "\n",
    "    relations = {'F': {F('m'), F('h'), F('e'), F('n')}, # (i.e. m,n,e, and n are females),\n",
    "                'P': {P('g', 'm'), P('h', 'm'), P('h', 't'), P('t', 'e'), P('n', 'e'), P('a', 't'), P('e', 'b')}, # (i.e. g is a parent of m, h is a parent of m, and so on)\n",
    "                'D': {D('m', 'g'), D('m', 'h'), D('e', 't'), D('e', 'n')}, # (i.e. m is a daughter of g)\n",
    "                'G': {G('h', 'e'), G('n', 'b')}, # (i.e. h is a grandmother of e, n is a grandmother of b)\n",
    "    }\n",
    "\n",
    "    result = concept_learning(D, A, relations, [F, P, G], extra_variables=0, concept_size=2)\n",
    "    concepts_eq, concepts_imp = parse_result(result)\n",
    "    print('Concepts: Daughters')\n",
    "\n",
    "    for c in concepts_eq:\n",
    "        print(c)\n",
    "\n",
    "    result = concept_learning(G, A, relations, [F, P, D], extra_variables=1, concept_size=3)\n",
    "    concepts_eq, concepts_imp = parse_result(result)\n",
    "    print('Concepts: Grandmothers')\n",
    "\n",
    "    for c in concepts_eq:\n",
    "        print(c)\n",
    "scope()"
   ]
  },
  {
   "cell_type": "markdown",
   "metadata": {},
   "source": [
    "Result:\n",
    "\n",
    "We found the following concept for Daughters:\n",
    "1. F(x1) ∧ P(x0,x1) <-> D(x0,x1)\n",
    "\n",
    "This makes sense witch is good!\n",
    "\n",
    "We found the following concept for Grandmothers:\n",
    "\n",
    "1. F(x0) ∧ P(x2,x1) ∧ P(x0,x2) <-> G(x0,x1)\n",
    "2. F(x0) ∧ P(x2,x1) ∧ D(x2,x0) <-> G(x0,x1)\n",
    "\n",
    "That is cool since we found one that was expected and one that was not expected but makes sense.\n",
    "\n",
    "Ether we are a grandmother to the child of our child or that our mother is a grandmother to our child. \n"
   ]
  },
  {
   "cell_type": "markdown",
   "metadata": {},
   "source": [
    "#### Assignment 2\n",
    "\n",
    "Learning the concept R(x,y): Find literals θ1(x,y),...,θn(x,y) which do not contain R and such that M |= ∀x∀y((θ1(x,y)∧...∧θn(x,y)) → R(x,y)) and M|= ∃x∃y(θ1(x,y)∧...∧θn(x,y)). Observe that a literal denoted θk(x,y) above need not necessarily contain both variables x and y and it may be of the form x = y or ¬(x = y).\n",
    "There may be several possibilities, but to get maximal credit on this assignment you\n",
    "need to find such θ1(x,y),...,θn(x,y) so that \n",
    "\n",
    "$$\n",
    "M|= ∀x∀y((θ1(x,y) ∧... ∧θn(x,y)) ↔ R(x,y))\n",
    "$$"
   ]
  },
  {
   "cell_type": "code",
   "execution_count": 21,
   "metadata": {},
   "outputs": [
    {
     "name": "stderr",
     "output_type": "stream",
     "text": [
      "100%|██████████| 35/35 [00:14<00:00,  2.39it/s]"
     ]
    },
    {
     "name": "stdout",
     "output_type": "stream",
     "text": [
      "Concepts: R\n",
      "P(x0) ∧ P(x1) ∧ Q(x0) ∧ Q(x1) <-> R(x0,x1)\n"
     ]
    },
    {
     "name": "stderr",
     "output_type": "stream",
     "text": [
      "\n"
     ]
    }
   ],
   "source": [
    "relations = {'P': PM, 'Q': QM, 'R': RM, 'S': SM, 'T': TM}\n",
    "\n",
    "result = concept_learning(R, M, relations, [P, Q, S, T], extra_variables=0, concept_size=4)\n",
    "concepts_eq, concepts_imp = parse_result(result)\n",
    "print('Concepts: R')\n",
    "for c in concepts_eq:\n",
    "    print(c)\n"
   ]
  },
  {
   "cell_type": "markdown",
   "metadata": {},
   "source": [
    "#### Answer 2\n",
    "\n",
    "Concept a that is learned for R is:\n",
    "$$\n",
    "P(x0) ∧ P(x1) ∧ Q(x0) ∧ Q(x1) ↔ R(x0,x1) \n",
    "$$\n",
    "\n",
    "After a solution its easy to see that this is a correct solution. However there might exist other solutions that has a larger set of literals. However the smallest set of literals that gives the correct solution is 4 literals.\n"
   ]
  },
  {
   "cell_type": "markdown",
   "metadata": {},
   "source": [
    "#### Construction of a probabilistic model and inference\n",
    "\n",
    "As previously lets use the course material to guide the implementation and validation of the algorithm.\n",
    "Its imt to travel to the land of chapter 5 in Logic_and_probability_7.pdf   \n",
    "\n",
    "Algorithm1 for finding the arrows of a DAG corresponding to a lifted Bayesian network:\n",
    "```\n",
    "Set k := 1 and as long as k < m do:\n",
    "    For every i = 1,...,k, add an arrow from φi to φk+1.\n",
    "    Set I := {1,...,k}.\n",
    "    For i = 1,...,k do:\n",
    "        If φk+1 and φi are conditionally independent over (φj : j ∈I \\{i}), then \n",
    "            remove i from I (i.e. set I := I \\{i}) and remove the arrow from φi to φk+1. \n",
    "        Otherwise\n",
    "            do nothing.\n",
    "    Set k := k + 1.\n",
    "Next, for every vertex φk with parents φi1,...,φis , say, one computes the conditional probability\n",
    "μ^{n}(φk = 1 | φi1 = b1,...,φis = bs) for every choice of b1,...,bs ∈{0,1}.\n",
    "```\n",
    "\n"
   ]
  },
  {
   "cell_type": "code",
   "execution_count": 8,
   "metadata": {},
   "outputs": [],
   "source": [
    "import networkx as nx\n",
    "import matplotlib.pyplot as plt\n",
    "from fractions import Fraction"
   ]
  },
  {
   "cell_type": "code",
   "execution_count": 181,
   "metadata": {},
   "outputs": [],
   "source": [
    "def intersect(obj, relations, arity):\n",
    "    res = set()\n",
    "    for o in obj:\n",
    "        for r in relations:\n",
    "            if r.args == o[:r.arity]:\n",
    "                res.add(o)\n",
    "    return res\n",
    "\n",
    "def left_join(obj, relations, arity):\n",
    "    res = obj.copy()\n",
    "    for o in obj:\n",
    "        for r in relations:\n",
    "            if r.args == o[:r.arity]:\n",
    "                res.discard(o)\n",
    "    return res\n",
    "\n",
    "def full(M, arity):\n",
    "    return set(product(M, repeat=arity))\n",
    "\n",
    "class BasianNetwork:\n",
    "    def __init__(self, nodes, M, relations, arity):\n",
    "        self.nodes = nodes\n",
    "        self.edges = []\n",
    "        self.M = M\n",
    "        self.relations = relations\n",
    "        self.arity = arity\n",
    "        self.parents = defaultdict(set)\n",
    "        self.children = defaultdict(set)\n",
    "\n",
    "    def add_edge(self, node1, node2):\n",
    "        self.edges.append((node1, node2))\n",
    "        self.parents[node2].add(node1)\n",
    "        self.children[node1].add(node2)\n",
    "    \n",
    "    def remove_edge(self, node1, node2):\n",
    "        self.edges.remove((node1, node2))\n",
    "        self.parents[node2].remove(node1)\n",
    "        self.children[node1].remove(node2)\n",
    "\n",
    "    def draw(self):\n",
    "        G = nx.DiGraph()\n",
    "        G.add_nodes_from(self.nodes)\n",
    "        for arrow in self.edges:\n",
    "            G.add_edge(arrow[0], arrow[1])\n",
    "        nx.draw(G, with_labels=True, node_size=2000, node_color=\"lightblue\", font_size=14)\n",
    "    \n",
    "    def table(self):\n",
    "        used = set()\n",
    "        frontier = list(filter(lambda x: len(self.parents[x]) == 0, self.nodes))\n",
    "        print('Conditional probabilities:')\n",
    "        while len(frontier) > 0:\n",
    "            node = frontier.pop(0)\n",
    "            if node in used:\n",
    "                continue\n",
    "            used.add(node)\n",
    "            parents = self.parents[node]\n",
    "            for op in product([True, False], repeat=len(parents)):\n",
    "                repr = []\n",
    "                value = 0\n",
    "                full_set = full(self.M, self.arity)\n",
    "                for n, p in zip(parents, op):\n",
    "                    if p:\n",
    "                        repr.append(f'{n}')\n",
    "                        full_set = intersect(full_set, self.relations[n], self.arity)\n",
    "                    else:\n",
    "                        repr.append(f'¬{n}')\n",
    "                        full_set = left_join(full_set, self.relations[n], self.arity)\n",
    "                p_str = ''\n",
    "                if len(repr) > 0:\n",
    "                    p_str = ' | '+' ∧ '.join(repr)\n",
    "                if len(full_set) == 0:\n",
    "                    value = \"undefined\"\n",
    "                else:\n",
    "                    value = Fraction(len(intersect(full_set, self.relations[node], self.arity))/len(full_set)).limit_denominator(100)\n",
    "                print(f'μ({node}{p_str}) = {value}')\n",
    "            print('-'*20)\n",
    "            for child in self.children[node]:\n",
    "                frontier.append(child)\n",
    "        \n",
    "\n",
    "def build_lifted_network(M, phi, relations, arity=1):\n",
    "    network = BasianNetwork(phi, M, relations, arity)\n",
    "    rel = [relations[n] for n in phi]\n",
    "    \n",
    "    for k in range(len(phi)-1):\n",
    "        for i in range(0, k+1):\n",
    "            network.add_edge(phi[i], phi[k+1])\n",
    "        I = set(range(k+1))\n",
    "        for i in range(k+1):\n",
    "            if is_conditionally_independent(rel, k+1, I, i, M, arity):\n",
    "                I.remove(i)\n",
    "                network.remove_edge(phi[i], phi[k+1])\n",
    "    return network\n",
    "\n",
    "\n",
    "def is_conditionally_independent(relations, k, I, i, M, arity):\n",
    "    k_set = relations[k].copy()\n",
    "    values = []\n",
    "    for op in product([True, False], repeat=len(I)):\n",
    "        print(f'op {op}, I {I}, i {i}, k {k}')\n",
    "        full_set = full(M, arity)\n",
    "        for j, p in zip(I, op):\n",
    "            if p:\n",
    "                full_set = intersect(full_set, relations[j], arity)\n",
    "            else:\n",
    "                full_set = left_join(full_set, relations[j], arity)\n",
    "        if len(full_set) == 0:\n",
    "            continue\n",
    "        full_val = len(intersect(full_set, k_set, arity))/len(full_set)\n",
    "        sub_set = full(M, arity)\n",
    "        for j, p in zip(I-{i}, op):\n",
    "            if p:\n",
    "                sub_set = intersect(sub_set, relations[j], arity)\n",
    "            else:\n",
    "                sub_set = left_join(sub_set, relations[j], arity)\n",
    "        if len(sub_set) == 0:\n",
    "            continue\n",
    "        sub_val = len(intersect(sub_set, k_set, arity))/len(sub_set)\n",
    "        print(f'full_set {full_set}, sub_set {sub_set}')\n",
    "        print(f'full_val {full_val}, sub_val {sub_val}')\n",
    "        values.append(full_val == sub_val)\n",
    "    print(values)\n",
    "    return all(values)\n",
    "\n",
    "\n"
   ]
  },
  {
   "cell_type": "code",
   "execution_count": 158,
   "metadata": {},
   "outputs": [],
   "source": [
    "class I1(Base):\n",
    "    arity = 1\n",
    "    name = \"I1\"\n",
    "    def __init__(self, *args):\n",
    "        self.args = args\n",
    "        assert len(args) == I1.arity\n",
    "class I2(Base):\n",
    "    arity = 1\n",
    "    name = \"I2\"\n",
    "    def __init__(self, *args):\n",
    "        self.args = args\n",
    "        assert len(args) == I2.arity\n",
    "\n",
    "class I3(Base):\n",
    "    arity = 1\n",
    "    name = \"I3\"\n",
    "    def __init__(self, *args):\n",
    "        self.args = args\n",
    "        assert len(args) == I3.arity\n",
    "\n",
    "M2 = {'A', 'B', 'C', 'D', 'E', 'F', 'G', 'H', 'I', 'J', 'K', 'L'}\n",
    "I1M = {I1('A'), I1('D'), I1('F'), I1('G'), I1('J'), I1('L')}\n",
    "I2M = {I2('B'), I2('D'), I2('G'), I2('I'), I2('J'), I2('L')}\n",
    "I3M = {I3('A'), I3('C'), I3('D'), I3('F'), I3('G'), I3('I'), I3('K'), I3('J'), I3('L')}"
   ]
  },
  {
   "cell_type": "code",
   "execution_count": 171,
   "metadata": {},
   "outputs": [
    {
     "name": "stdout",
     "output_type": "stream",
     "text": [
      "Conditional probabilities:\n",
      "μ(I1(x)) = 1/2\n",
      "--------------------\n",
      "μ(I2(x) | I1(x)) = 2/3\n",
      "μ(I2(x) | ¬I1(x)) = 1/3\n",
      "--------------------\n",
      "μ(I3(x) | I1(x)) = 1\n",
      "μ(I3(x) | ¬I1(x)) = 1/2\n",
      "--------------------\n"
     ]
    },
    {
     "data": {
      "image/png": "[encoded data removed]",
      "text/plain": [
       "<Figure size 640x480 with 1 Axes>"
      ]
     },
     "metadata": {},
     "output_type": "display_data"
    }
   ],
   "source": [
    "relations2 = {'I1(x)': I1M, \n",
    "             'I2(x)': I2M,\n",
    "             'I3(x)': I3M,\n",
    "}\n",
    "phi = ['I1(x)', 'I2(x)', 'I3(x)']\n",
    "\n",
    "basian_network = build_lifted_network(M2, phi, relations2)\n",
    "basian_network.table()\n",
    "basian_network.draw()\n",
    "plt.show()"
   ]
  },
  {
   "cell_type": "code",
   "execution_count": 172,
   "metadata": {},
   "outputs": [
    {
     "name": "stdout",
     "output_type": "stream",
     "text": [
      "Conditional probabilities:\n",
      "μ(I3(x)) = 3/4\n",
      "--------------------\n",
      "μ(I2(x) | I3(x) ∧ I1(x)) = 2/3\n",
      "μ(I2(x) | I3(x) ∧ ¬I1(x)) = 1/3\n",
      "μ(I2(x) | ¬I3(x) ∧ I1(x)) = undefined\n",
      "μ(I2(x) | ¬I3(x) ∧ ¬I1(x)) = 1/3\n",
      "--------------------\n",
      "μ(I1(x) | I3(x)) = 2/3\n",
      "μ(I1(x) | ¬I3(x)) = 0\n",
      "--------------------\n"
     ]
    },
    {
     "data": {
      "image/png": "[encoded data removed]",
      "text/plain": [
       "<Figure size 640x480 with 1 Axes>"
      ]
     },
     "metadata": {},
     "output_type": "display_data"
    }
   ],
   "source": [
    "phi = ['I3(x)', 'I1(x)', 'I2(x)', ]\n",
    "\n",
    "basian_network = build_lifted_network(M2, phi, relations2)\n",
    "basian_network.table()\n",
    "basian_network.draw()\n",
    "plt.show()"
   ]
  },
  {
   "cell_type": "code",
   "execution_count": 182,
   "metadata": {},
   "outputs": [
    {
     "name": "stdout",
     "output_type": "stream",
     "text": [
      "op (True,), I {0}, i 0, k 1\n",
      "full_set {('E',), ('H',), ('A',)}, sub_set {('D',), ('A',), ('H',), ('C',), ('E',), ('G',), ('F',), ('B',)}\n",
      "full_val 1.0, sub_val 0.375\n",
      "op (False,), I {0}, i 0, k 1\n",
      "full_set {('D',), ('C',), ('G',), ('F',), ('B',)}, sub_set {('D',), ('A',), ('H',), ('C',), ('E',), ('G',), ('F',), ('B',)}\n",
      "full_val 0.0, sub_val 0.375\n",
      "[False, False]\n",
      "op (True, True), I {0, 1}, i 0, k 2\n",
      "full_set {('A',), ('H',), ('E',)}, sub_set {('E',), ('H',), ('A',)}\n",
      "full_val 0.0, sub_val 0.0\n",
      "op (True, False), I {0, 1}, i 0, k 2\n",
      "op (False, True), I {0, 1}, i 0, k 2\n",
      "op (False, False), I {0, 1}, i 0, k 2\n",
      "full_set {('F',), ('D',), ('G',), ('B',), ('C',)}, sub_set {('D',), ('C',), ('G',), ('F',), ('B',)}\n",
      "full_val 0.0, sub_val 0.0\n",
      "[True, True]\n",
      "op (True,), I {1}, i 1, k 2\n",
      "full_set {('E',), ('H',), ('A',)}, sub_set {('D',), ('A',), ('H',), ('C',), ('E',), ('G',), ('F',), ('B',)}\n",
      "full_val 0.0, sub_val 0.0\n",
      "op (False,), I {1}, i 1, k 2\n",
      "full_set {('D',), ('C',), ('G',), ('F',), ('B',)}, sub_set {('D',), ('A',), ('H',), ('C',), ('E',), ('G',), ('F',), ('B',)}\n",
      "full_val 0.0, sub_val 0.0\n",
      "[True, True]\n",
      "Conditional probabilities:\n",
      "μ(BIG(x)) = 3/8\n",
      "--------------------\n",
      "μ(DIRECT(x,y)) = 0\n",
      "--------------------\n",
      "μ(BIG(y) | BIG(x)) = 1\n",
      "μ(BIG(y) | ¬BIG(x)) = 0\n",
      "--------------------\n"
     ]
    },
    {
     "data": {
      "image/png": "[encoded data removed]",
      "text/plain": [
       "<Figure size 640x480 with 1 Axes>"
      ]
     },
     "metadata": {},
     "output_type": "display_data"
    }
   ],
   "source": [
    "class Big(Base):\n",
    "    arity = 1\n",
    "    name = \"BIG\"\n",
    "    def __init__(self, *args):\n",
    "        self.args = args\n",
    "        assert len(args) == Big.arity\n",
    "\n",
    "class Direct(Base):\n",
    "    arity = 2\n",
    "    name = \"DIRECT\"\n",
    "    def __init__(self, *args):\n",
    "        self.args = args\n",
    "        assert len(args) == Direct.arity\n",
    "\n",
    "M3 = {'A', 'B', 'C', 'D', 'E', 'F', 'G', 'H'}\n",
    "BigM = {Big('A'),Big('E'),Big('H')}\n",
    "DirectM = {Direct('A', 'B'), \n",
    "           Direct('B', 'A'), \n",
    "           Direct('A', 'H'), \n",
    "           Direct('H', 'A'), \n",
    "           Direct('B', 'C'), \n",
    "           Direct('C', 'A'), \n",
    "           Direct('B', 'E'), \n",
    "           Direct('E', 'B'), \n",
    "           Direct('E', 'D'), \n",
    "           Direct('D', 'E'), \n",
    "           Direct('E', 'F'), \n",
    "           Direct('F', 'A'), \n",
    "           Direct('E', 'H'), \n",
    "           Direct('H', 'E'), \n",
    "           Direct('H', 'G'), \n",
    "           Direct('G', 'H')}\n",
    "\n",
    "relations3 = {'BIG(x)': BigM, \n",
    "              'BIG(y)': BigM, \n",
    "             'DIRECT(x,y)': DirectM,\n",
    "}\n",
    "phi = ['BIG(x)','BIG(y)', 'DIRECT(x,y)']\n",
    "\n",
    "basian_network = build_lifted_network(M3, phi, relations3, arity=1)\n",
    "basian_network.table()\n",
    "basian_network.draw()"
   ]
  },
  {
   "cell_type": "markdown",
   "metadata": {},
   "source": [
    "After evaluating the algorithm on the textbook example i feel confident that it has somewhat reasonable chance of working. Let continue with the assignment 3."
   ]
  },
  {
   "cell_type": "markdown",
   "metadata": {},
   "source": [
    "#### Assignment 3\n",
    "(Learning a Bayesian network) Construct a Bayesian network from M in the way explained in Chapter 5.1 using the following order of the formulas, also viewed as random variables from $M^{2}$ to {0,1}: $P(x), P(y), Q(x), Q(y), R(x,y), S(x,y), T(x,y)$. As explained in Chapter 4, we can identify P(x) with a random variable $P_x: $M^{2}$ → {0,1} such that $P_x(a,b)$ = 1 if M |= P(a) and $P_x(a,b)$ = 0 otherwise. P(y) can be identified with a random variable $P_y: $M^{2}$ → {0,1} such that $P_y(a,b)$ = 1 if M |= P(b) and $P_y(a,b)$ = 0 otherwise. If you need you can use conditions like 'x = y' or 'x ̸= y' when specifying conditions for conditional probabilities (although we don't view such formulas as vertices of the network).\n",
    "\n",
    "It is also possible, and acceptable, to construct a lifted Bayesian network with vertices $P,Q,R,S,T$ (considered in this order) as defined in Definition 6.2.1 in my notes. The procedure will b e essentially the same and you have to do the same calculations. The resulting lifted Bayesian network will b e similar to the one obtained by the first approach, but not identical since the later has 5 vertices while the first has 7. (In the later approach $P(x)$ and $P(y)$ are identified, and $Q(x)$ and $Q(y)$ are identified.) When determining (conditional) independence you can use the usual mathematical definition of independence, as there is no need for \"approximation\" in this assignment. Use the counting measure (i.e. uniform probability distribution) μ : M → R when determining (conditional) probabilities."
   ]
  },
  {
   "cell_type": "code",
   "execution_count": 91,
   "metadata": {},
   "outputs": [
    {
     "name": "stdout",
     "output_type": "stream",
     "text": [
      "Conditional probabilities:\n",
      "μ(P) = 1/2\n",
      "--------------------\n",
      "μ(Q) = 1/2\n",
      "--------------------\n",
      "μ(R | P ∧ Q) = 1\n",
      "μ(R | P ∧ ¬Q) = 0\n",
      "μ(R | ¬P ∧ Q) = 0\n",
      "μ(R | ¬P ∧ ¬Q) = 0\n",
      "--------------------\n",
      "μ(S | R ∧ Q) = 1\n",
      "μ(S | R ∧ ¬Q) = undefined\n",
      "μ(S | ¬R ∧ Q) = 0\n",
      "μ(S | ¬R ∧ ¬Q) = 0\n",
      "--------------------\n",
      "μ(T | S) = 1\n",
      "μ(T | ¬S) = 0\n",
      "--------------------\n"
     ]
    },
    {
     "data": {
      "image/png": "[encoded data removed]",
      "text/plain": [
       "<Figure size 640x480 with 1 Axes>"
      ]
     },
     "metadata": {},
     "output_type": "display_data"
    }
   ],
   "source": [
    "phi = ['P', 'Q', 'R', 'S', 'T']\n",
    "basian_network = build_lifted_network(M, phi, relations)\n",
    "basian_network.table()\n",
    "basian_network.draw()\n",
    "plt.show()"
   ]
  }
 ],
 "metadata": {
  "kernelspec": {
   "display_name": "venv",
   "language": "python",
   "name": "python3"
  },
  "language_info": {
   "codemirror_mode": {
    "name": "ipython",
    "version": 3
   },
   "file_extension": ".py",
   "mimetype": "text/x-python",
   "name": "python",
   "nbconvert_exporter": "python",
   "pygments_lexer": "ipython3",
   "version": "3.10.11"
  }
 },
 "nbformat": 4,
 "nbformat_minor": 2
}
