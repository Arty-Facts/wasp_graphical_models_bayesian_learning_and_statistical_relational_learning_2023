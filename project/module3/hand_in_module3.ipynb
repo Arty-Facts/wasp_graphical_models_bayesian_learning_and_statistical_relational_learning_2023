{
 "cells": [
  {
   "cell_type": "code",
   "execution_count": 111,
   "metadata": {},
   "outputs": [],
   "source": [
    "import numpy as np\n",
    "from itertools import product, combinations"
   ]
  },
  {
   "cell_type": "markdown",
   "metadata": {},
   "source": [
    "#### (Inductive logic programming in the context of prop ositional logic) Le p,q,r be propositional variables (6p)\n",
    "\n",
    "Since i find it intreating to apply theory to parties i will try to implement the algorithm in python. My argument for that is that if i can implement it then i probably understand it. I will reason for the answers that the algorithm gives."
   ]
  },
  {
   "cell_type": "markdown",
   "metadata": {},
   "source": [
    "1. Suppose that all the formulas ¬p ∨ r, ¬q ∨ ¬r and p are true. Determine the\n",
    "truth values of q and r."
   ]
  },
  {
   "cell_type": "code",
   "execution_count": 71,
   "metadata": {},
   "outputs": [
    {
     "name": "stdout",
     "output_type": "stream",
     "text": [
      "p=True, q=False, r=True\n"
     ]
    }
   ],
   "source": [
    "true_statements = [\n",
    "    lambda p, q, r: not p or r,\n",
    "    lambda p, q, r: not q or not r,\n",
    "    lambda p, q, r: p,\n",
    "]\n",
    "\n",
    "for p, q, r in product([True, False], repeat=3):\n",
    "    if all(map(lambda f: f(p, q, r), true_statements)):\n",
    "        print(f\"p={p}, q={q}, r={r}\")\n"
   ]
  },
  {
   "cell_type": "markdown",
   "metadata": {},
   "source": [
    "* if p is true then r must be true given true statement ¬p ∨ r.\n",
    "* if r is true then q must be false given true statement ¬q ∨ ¬r.\n",
    "\n",
    "Answer: q is false and r is true."
   ]
  },
  {
   "cell_type": "markdown",
   "metadata": {},
   "source": [
    "2. Construct a CNF φ which avoids N and covers E where:\n",
    "\n",
    "    N = {(0,1,0),(1,0,0),(1,1,0)} and\n",
    "\n",
    "    E = {(0,0,0),(0,0,1),(0,1,1),(1,0,1),(1,1,1)}.\n",
    "    \n",
    "    Try to simplify φ as much as p ossible by removing unnecessary 1 literals (if such\n",
    "    exist)."
   ]
  },
  {
   "cell_type": "code",
   "execution_count": 177,
   "metadata": {},
   "outputs": [
    {
     "name": "stdout",
     "output_type": "stream",
     "text": [
      "Maximally CNF:\n",
      "(p ∨ ¬q ∨ r) ∧ (¬p ∨ q ∨ r) ∧ (¬p ∨ ¬q ∨ r)\n",
      "Minimally CNF:\n",
      "(¬q ∨ r) ∧ (¬p ∨ r)\n"
     ]
    }
   ],
   "source": [
    "# E = np.array([(1,1,0,1),(1,0,1,0),(0,1,1,0),(0,1,0,1),(1,0,1,1)])\n",
    "# N = np.array([(0,0,0,0),(1,1,1,1),(1,1,1,0),(0,1,0,0),(1,0,0,1)])\n",
    "E = np.array([(0,0,0),(0,0,1),(0,1,1),(1,0,1),(1,1,1)])\n",
    "N = np.array([(0,1,0),(1,0,0),(1,1,0)])\n",
    "def covers(cause, statements):\n",
    "    \"\"\"\n",
    "    all positive examples satisfy φ\n",
    "    \"\"\"\n",
    "    cause = np.array(cause, dtype=bool)\n",
    "    covered = np.zeros(len(statements), dtype=bool)\n",
    "    for i, statement in enumerate(statements):\n",
    "        res = list(map(lambda c, s: c if s  else not c, cause, statement))\n",
    "        covered[i] = any(res)\n",
    "    return all(covered)\n",
    "\n",
    "def avoids(cause, statements):\n",
    "    \"\"\"\n",
    "    no negative example satisfy φ\n",
    "    \"\"\"\n",
    "    cause = np.array(cause, dtype=bool)\n",
    "    avoided = np.zeros(len(statements), dtype=bool)\n",
    "    for i, statement in enumerate(statements):\n",
    "        res = list(map(lambda c, s: c if s  else not c, cause, statement))\n",
    "        avoided[i] = all(res)\n",
    "    return not any(avoided)\n",
    "\n",
    "def cause_str(cause):\n",
    "    cause, idxs = cause\n",
    "    return '(' + ' ∨ '.join(map(lambda i: f'{L[i]}' if cause[i] else f'¬{L[i]}', idxs)) + ')'\n",
    "\n",
    "L = ['p', 'q', 'r', 's', 't']\n",
    "\n",
    "def find_H(cause, E, N, maximal=True):\n",
    "    for cause_size in  sorted(range(1, len(E[0])+1), reverse=maximal):\n",
    "        for idxs in combinations(range(len(E[0])), cause_size):\n",
    "            curr_cause = [cause[i] for i in idxs]\n",
    "            if covers(curr_cause, statements=E[:, idxs]) and avoids(curr_cause, statements=N[:, idxs]):\n",
    "                return cause, idxs\n",
    "    return None, None\n",
    "\n",
    "def algorithm(E, N, maximal=True):\n",
    "    \"\"\"\n",
    "    Algorithm 1; producing a maximally general set or simplified set of clauses H which covers E and avoids N\n",
    "    (3.3) in Logic_and_probability_7.pdf\n",
    "    \"\"\"\n",
    "    inxs = []\n",
    "    H = []\n",
    "    used = set()\n",
    "    for cause in N:\n",
    "        cause = [int(not c) for c in cause]\n",
    "        cause, idxs = find_H(cause, E, N, maximal)\n",
    "        if cause is not None:\n",
    "            curr = tuple([cause[i] for i in idxs] + list(idxs))\n",
    "            if curr in used:\n",
    "                continue\n",
    "            used.add(curr)\n",
    "            H.append(cause)\n",
    "            inxs.append(idxs)\n",
    "    return zip(H, inxs)\n",
    "\n",
    "Fi = algorithm(E, N, maximal=True)\n",
    "print('Maximally CNF:')\n",
    "print(' ∧ '.join(map(cause_str, Fi)))\n",
    "\n",
    "Fi = algorithm(E, N, maximal=False)\n",
    "print('Simplified CNF:')\n",
    "print(' ∧ '.join(map(cause_str, Fi)))"
   ]
  },
  {
   "cell_type": "markdown",
   "metadata": {},
   "source": [
    "#### Answer:    \n",
    "Algorithm 1/2; producing a maximally general set or simplified set of clauses H which covers E and avoids N. (3.3) in Logic_and_probability_7.pdf\n",
    "\n",
    "\n",
    "1. φ with Maximally CNF: \n",
    "\n",
    "    (p ∨ ¬q ∨ r) ∧ (¬p ∨ q ∨ r) ∧ (¬p ∨ ¬q ∨ r)\n",
    "\n",
    "2. φ with Simplified CNF: \n",
    "\n",
    "    (¬q ∨ r) ∧ (¬p ∨ r)\n"
   ]
  },
  {
   "cell_type": "markdown",
   "metadata": {},
   "source": [
    "#### In the rest of the assignments L and M refer to the language L and L-structure M that we now define. \n",
    "\n",
    "Let L = {P,Q,R,S,T} where the relation symbols P,Q,R,S,T have arities 1,1,2,2,2, respectively.\n",
    "\n",
    "Let M b e the L-structure with domain M = {1,2,3,...,20} and the following interpretations of the relation symbols:\n",
    "* PM = {1,2,3,4,5,6,7,8,9,10},\n",
    "* QM = {1,2,3,4,5,11,12,13,14,15},\n",
    "* RM = {(i,j) : i ̸= j,1 ≤i ≤5 and 1 ≤j ≤5},\n",
    "* SM = {(2,5),(3,1),(4,3),(1,2),(5,4),(2,3),(4,2),(1,3),(3,5),(4,5)},\n",
    "* TM = {(2,5),(3,1),(4,3),(1,2),(5,4),(3,2),(2,1),(1,4),(2,4),(5,2)}."
   ]
  },
  {
   "cell_type": "code",
   "execution_count": 178,
   "metadata": {},
   "outputs": [
    {
     "name": "stdout",
     "output_type": "stream",
     "text": [
      "[P(1), P(2), P(3), P(4), P(5), P(6), P(7), P(8), P(9), P(10)]\n",
      "[Q(1), Q(2), Q(3), Q(4), Q(5), Q(11), Q(12), Q(13), Q(14), Q(15)]\n",
      "[R(1,2), R(1,3), R(1,4), R(1,5), R(2,1), R(2,3), R(2,4), R(2,5), R(3,1), R(3,2), R(3,4), R(3,5), R(4,1), R(4,2), R(4,3), R(4,5), R(5,1), R(5,2), R(5,3), R(5,4)]\n",
      "[S(2,5), S(3,1), S(4,3), S(1,2), S(5,4), S(2,3), S(4,2), S(1,3), S(3,5), S(4,5)]\n",
      "[T(2,5), T(3,1), T(4,3), T(1,2), T(5,4), T(3,2), T(2,1), T(1,4), T(2,4), T(5,2)]\n"
     ]
    }
   ],
   "source": [
    "class Base:\n",
    "    def __repr__(self) -> str:\n",
    "        return self.name + '(' + ','.join(map(str, self.args)) + ')'\n",
    "\n",
    "class P(Base):\n",
    "    def __init__(self, *args):\n",
    "        self.name = \"P\"\n",
    "        self.args = args\n",
    "        self.arity = 1\n",
    "        assert len(args) == self.arity\n",
    "    \n",
    "class Q(Base):\n",
    "    def __init__(self, *args):\n",
    "        self.name = \"Q\"\n",
    "        self.args = args\n",
    "        self.arity = 1\n",
    "        assert len(args) == self.arity\n",
    "\n",
    "class R(Base):\n",
    "    def __init__(self, *args):\n",
    "        self.name = \"R\" \n",
    "        self.args = args\n",
    "        self.arity = 2\n",
    "        assert len(args) == self.arity\n",
    "\n",
    "class S(Base):\n",
    "    def __init__(self, *args):\n",
    "        self.name = \"S\"\n",
    "        self.args = args\n",
    "        self.arity = 2\n",
    "        assert len(args) == self.arity\n",
    "\n",
    "class T(Base):\n",
    "    def __init__(self, *args):\n",
    "        self.name = \"T\"\n",
    "        self.args = args\n",
    "        self.arity = 2\n",
    "        assert len(args) == self.arity\n",
    "M = list(range(1,21))\n",
    "PM = list(map(P, [1,2,3,4,5,6,7,8,9,10]))\n",
    "QM = list(map(Q, [1,2,3,4,5,11,12,13,14,15]))\n",
    "RM = [R(i,j) for i in range(1,6) for j in range(1,6) if i != j]\n",
    "SM = list(map(S, [2,3,4,1,5,2,4,1,3,4], [5,1,3,2,4,3,2,3,5,5]))\n",
    "TM = list(map(T, [2,3,4,1,5,3,2,1,2,5], [5,1,3,2,4,2,1,4,4,2]))\n",
    "print(PM)\n",
    "print(QM)\n",
    "print(RM)\n",
    "print(SM)\n",
    "print(TM)\n"
   ]
  },
  {
   "cell_type": "code",
   "execution_count": 186,
   "metadata": {},
   "outputs": [],
   "source": [
    "class F(Base):\n",
    "    arity = 1\n",
    "    name = \"F\"\n",
    "    def __init__(self, *args):\n",
    "        self.args = args\n",
    "        assert len(args) == F.arity\n",
    "class P(Base):\n",
    "    arity = 2\n",
    "    name = \"P\"\n",
    "    def __init__(self, *args):\n",
    "        self.args = args\n",
    "        assert len(args) == P.arity\n",
    "\n",
    "class D(Base):\n",
    "    arity = 2\n",
    "    def __init__(self, *args):\n",
    "        self.name = \"D\"\n",
    "        self.args = args\n",
    "        assert len(args) == D.arity\n",
    "\n",
    "class G(Base):\n",
    "    arity = 2\n",
    "    name = \"G\"\n",
    "    def __init__(self, *args):\n",
    "        self.args = args\n",
    "        assert len(args) == G.arity\n",
    "\n",
    "A = ['a', 'b', 'e', 'g', 'h', 'm', 'n', 't']\n",
    "\n",
    "relations = {'F': [F('m'), F('h'), F('e'), F('n')], # (i.e. m,n,e, and n are females),\n",
    "             'P': [P('g', 'm'), P('h', 'm'), P('h', 't'), P('t', 'e'), P('n', 'e'), P('a', 't'), P('e', 'b')], # (i.e. g is a parent of m, h is a parent of m, and so on)\n",
    "             'D': [D('g', 'm'), D('h', 'm'), D('t', 'e'), D('n', 'e')], # (i.e. g is a daughter of m, h is a daughter of m, and so on)\n",
    "             'G': [G('h', 'e'), G('n', 'b')], # (i.e. h is a grandparent of e, n is a grandparent of b)\n",
    "}\n",
    "\n",
    "\n"
   ]
  },
  {
   "cell_type": "code",
   "execution_count": 180,
   "metadata": {},
   "outputs": [
    {
     "name": "stdout",
     "output_type": "stream",
     "text": [
      "('a', 'a')\n",
      "('a', 'b')\n",
      "('a', 'e')\n",
      "('a', 'g')\n",
      "('a', 'h')\n",
      "('a', 'm')\n",
      "('a', 'n')\n",
      "('a', 't')\n",
      "('b', 'a')\n",
      "('b', 'b')\n",
      "('b', 'e')\n",
      "('b', 'g')\n",
      "('b', 'h')\n",
      "('b', 'm')\n",
      "('b', 'n')\n",
      "('b', 't')\n",
      "('e', 'a')\n",
      "('e', 'b')\n",
      "('e', 'e')\n",
      "('e', 'g')\n",
      "('e', 'h')\n",
      "('e', 'm')\n",
      "('e', 'n')\n",
      "('e', 't')\n",
      "('g', 'a')\n",
      "('g', 'b')\n",
      "('g', 'e')\n",
      "('g', 'g')\n",
      "('g', 'h')\n",
      "('g', 'm')\n",
      "('g', 'n')\n",
      "('g', 't')\n",
      "('h', 'a')\n",
      "('h', 'b')\n",
      "('h', 'e')\n",
      "('h', 'g')\n",
      "('h', 'h')\n",
      "('h', 'm')\n",
      "('h', 'n')\n",
      "('h', 't')\n",
      "('m', 'a')\n",
      "('m', 'b')\n",
      "('m', 'e')\n",
      "('m', 'g')\n",
      "('m', 'h')\n",
      "('m', 'm')\n",
      "('m', 'n')\n",
      "('m', 't')\n",
      "('n', 'a')\n",
      "('n', 'b')\n",
      "('n', 'e')\n",
      "('n', 'g')\n",
      "('n', 'h')\n",
      "('n', 'm')\n",
      "('n', 'n')\n",
      "('n', 't')\n",
      "('t', 'a')\n",
      "('t', 'b')\n",
      "('t', 'e')\n",
      "('t', 'g')\n",
      "('t', 'h')\n",
      "('t', 'm')\n",
      "('t', 'n')\n",
      "('t', 't')\n"
     ]
    }
   ],
   "source": [
    "def concept_learning(concept, domain, relations, structures, variables=2, consept_size=2):\n",
    "    for vars in product(domain, repeat=variables):\n",
    "        statment = concept(*vars[:concept.arity])\n",
    "        for structure in product(structures, repeat=consept_size):\n",
    "            for structure_var in combinations(vars, structure.arity):\n",
    "                if statment(structure_var):\n",
    "                    print(statment, structure_var)\n",
    "            \n",
    "\n",
    "        print(selected)\n",
    "\n",
    "concept_learning(D, A, relations, [F, P, G])"
   ]
  },
  {
   "cell_type": "code",
   "execution_count": 188,
   "metadata": {},
   "outputs": [
    {
     "name": "stdout",
     "output_type": "stream",
     "text": [
      "(<class '__main__.F'>, <class '__main__.F'>, <class '__main__.F'>)\n",
      "(<class '__main__.F'>, <class '__main__.F'>, <class '__main__.P'>)\n",
      "(<class '__main__.F'>, <class '__main__.F'>, <class '__main__.G'>)\n",
      "(<class '__main__.F'>, <class '__main__.P'>, <class '__main__.F'>)\n",
      "(<class '__main__.F'>, <class '__main__.P'>, <class '__main__.P'>)\n",
      "(<class '__main__.F'>, <class '__main__.P'>, <class '__main__.G'>)\n",
      "(<class '__main__.F'>, <class '__main__.G'>, <class '__main__.F'>)\n",
      "(<class '__main__.F'>, <class '__main__.G'>, <class '__main__.P'>)\n",
      "(<class '__main__.F'>, <class '__main__.G'>, <class '__main__.G'>)\n",
      "(<class '__main__.P'>, <class '__main__.F'>, <class '__main__.F'>)\n",
      "(<class '__main__.P'>, <class '__main__.F'>, <class '__main__.P'>)\n",
      "(<class '__main__.P'>, <class '__main__.F'>, <class '__main__.G'>)\n",
      "(<class '__main__.P'>, <class '__main__.P'>, <class '__main__.F'>)\n",
      "(<class '__main__.P'>, <class '__main__.P'>, <class '__main__.P'>)\n",
      "(<class '__main__.P'>, <class '__main__.P'>, <class '__main__.G'>)\n",
      "(<class '__main__.P'>, <class '__main__.G'>, <class '__main__.F'>)\n",
      "(<class '__main__.P'>, <class '__main__.G'>, <class '__main__.P'>)\n",
      "(<class '__main__.P'>, <class '__main__.G'>, <class '__main__.G'>)\n",
      "(<class '__main__.G'>, <class '__main__.F'>, <class '__main__.F'>)\n",
      "(<class '__main__.G'>, <class '__main__.F'>, <class '__main__.P'>)\n",
      "(<class '__main__.G'>, <class '__main__.F'>, <class '__main__.G'>)\n",
      "(<class '__main__.G'>, <class '__main__.P'>, <class '__main__.F'>)\n",
      "(<class '__main__.G'>, <class '__main__.P'>, <class '__main__.P'>)\n",
      "(<class '__main__.G'>, <class '__main__.P'>, <class '__main__.G'>)\n",
      "(<class '__main__.G'>, <class '__main__.G'>, <class '__main__.F'>)\n",
      "(<class '__main__.G'>, <class '__main__.G'>, <class '__main__.P'>)\n",
      "(<class '__main__.G'>, <class '__main__.G'>, <class '__main__.G'>)\n"
     ]
    }
   ],
   "source": [
    "for selected in product([F, P, G], repeat=3):\n",
    "    print(selected)\n",
    "    "
   ]
  }
 ],
 "metadata": {
  "kernelspec": {
   "display_name": "venv",
   "language": "python",
   "name": "python3"
  },
  "language_info": {
   "codemirror_mode": {
    "name": "ipython",
    "version": 3
   },
   "file_extension": ".py",
   "mimetype": "text/x-python",
   "name": "python",
   "nbconvert_exporter": "python",
   "pygments_lexer": "ipython3",
   "version": "3.10.11"
  }
 },
 "nbformat": 4,
 "nbformat_minor": 2
}
