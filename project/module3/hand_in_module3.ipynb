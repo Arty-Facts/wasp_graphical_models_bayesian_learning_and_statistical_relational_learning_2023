{
 "cells": [
  {
   "cell_type": "markdown",
   "metadata": {},
   "source": [
    "#### by Arturas Aleksandraus \n",
    "\n",
    "Hi Vera,\n",
    "\n",
    "This submission might be a bit different from the others, but I hope you will find it interesting. I'm a very practical person and I like to see and apply theory in practice. I do that by building things. So instead of writing a long essay, I build functions. This helps me to understand the theory better and also to apply it in practice. I hade a lot of fun building these functions and I hope you will find my way acceptable.\n",
    "\n",
    "If you have any questions, please let me know.\n",
    "\n",
    "If you want to run the code your self you can find it here: \n",
    "\n",
    "https://github.com/Arty-Facts/wasp_graphical_models_bayesian_learning_and_statistical_relational_learning_2023/blob/main/project/module3/hand_in_module3.ipynb\n",
    "\n"
   ]
  },
  {
   "cell_type": "code",
   "execution_count": 21,
   "metadata": {},
   "outputs": [],
   "source": [
    "import numpy as np\n",
    "from itertools import product, combinations, combinations_with_replacement, permutations\n",
    "from collections import defaultdict\n",
    "from tqdm import tqdm"
   ]
  },
  {
   "cell_type": "markdown",
   "metadata": {},
   "source": [
    "#### (Inductive logic programming in the context of prop ositional logic) Le p,q,r be propositional variables (6p)\n",
    "\n",
    "Since i find it intreating to apply theory to parties i will try to implement the algorithm in python. My argument for that is that if i can implement it then i probably understand it. I will reason for the answers that the algorithm gives."
   ]
  },
  {
   "cell_type": "markdown",
   "metadata": {},
   "source": [
    "#### Assignment 1"
   ]
  },
  {
   "cell_type": "markdown",
   "metadata": {},
   "source": [
    "(a) Suppose that all the formulas ¬p ∨ r, ¬q ∨ ¬r and p are true. Determine the\n",
    "truth values of q and r."
   ]
  },
  {
   "cell_type": "code",
   "execution_count": 22,
   "metadata": {},
   "outputs": [
    {
     "name": "stdout",
     "output_type": "stream",
     "text": [
      "p=True, q=False, r=True\n"
     ]
    }
   ],
   "source": [
    "true_statements = [\n",
    "    lambda p, q, r: not p or r,\n",
    "    lambda p, q, r: not q or not r,\n",
    "    lambda p, q, r: p,\n",
    "]\n",
    "\n",
    "# way not try all possible combinations?\n",
    "for p, q, r in product([True, False], repeat=3):\n",
    "    if all(map(lambda f: f(p, q, r), true_statements)):\n",
    "        print(f\"p={p}, q={q}, r={r}\")\n"
   ]
  },
  {
   "cell_type": "markdown",
   "metadata": {},
   "source": [
    "* if p is true then r must be true given true statement ¬p ∨ r.\n",
    "* if r is true then q must be false given true statement ¬q ∨ ¬r.\n",
    "\n",
    "#### Answer 1.a\n",
    "q is false and r is true."
   ]
  },
  {
   "cell_type": "markdown",
   "metadata": {},
   "source": [
    "(b) Construct a CNF φ which avoids N and covers E where:\n",
    "\n",
    "    N = {(0,1,0),(1,0,0),(1,1,0)} and\n",
    "\n",
    "    E = {(0,0,0),(0,0,1),(0,1,1),(1,0,1),(1,1,1)}.\n",
    "    \n",
    "    Try to simplify φ as much as p ossible by removing unnecessary 1 literals (if such\n",
    "    exist)."
   ]
  },
  {
   "cell_type": "code",
   "execution_count": 23,
   "metadata": {},
   "outputs": [
    {
     "name": "stdout",
     "output_type": "stream",
     "text": [
      "Maximally CNF:\n",
      "(p ∨ ¬q ∨ r) ∧ (¬p ∨ q ∨ r) ∧ (¬p ∨ ¬q ∨ r)\n",
      "Simplified CNF:\n",
      "(¬q ∨ r) ∧ (¬p ∨ r)\n"
     ]
    }
   ],
   "source": [
    "E = np.array([(0,0,0),(0,0,1),(0,1,1),(1,0,1),(1,1,1)])\n",
    "N = np.array([(0,1,0),(1,0,0),(1,1,0)])\n",
    "def covers(cause, statements):\n",
    "    \"\"\"\n",
    "    all positive examples satisfy φ\n",
    "    \"\"\"\n",
    "    cause = np.array(cause, dtype=bool)\n",
    "    covered = np.zeros(len(statements), dtype=bool)\n",
    "    for i, statement in enumerate(statements):\n",
    "        res = list(map(lambda c, s: c if s  else not c, cause, statement))\n",
    "        covered[i] = any(res)\n",
    "    return all(covered)\n",
    "\n",
    "def avoids(cause, statements):\n",
    "    \"\"\"\n",
    "    no negative example satisfy φ\n",
    "    \"\"\"\n",
    "    cause = np.array(cause, dtype=bool)\n",
    "    avoided = np.zeros(len(statements), dtype=bool)\n",
    "    for i, statement in enumerate(statements):\n",
    "        res = list(map(lambda c, s: c if s  else not c, cause, statement))\n",
    "        avoided[i] = all(res)\n",
    "    return not any(avoided)\n",
    "\n",
    "def cause_str(cause):\n",
    "    cause, idxs = cause\n",
    "    return '(' + ' ∨ '.join(map(lambda i: f'{L[i]}' if cause[i] else f'¬{L[i]}', idxs)) + ')'\n",
    "\n",
    "L = ['p', 'q', 'r', 's', 't']\n",
    "\n",
    "def find_H(cause, E, N, maximal=True):\n",
    "    for cause_size in  sorted(range(1, len(E[0])+1), reverse=maximal):\n",
    "        for idxs in combinations(range(len(E[0])), cause_size):\n",
    "            curr_cause = [cause[i] for i in idxs]\n",
    "            if covers(curr_cause, statements=E[:, idxs]) and avoids(curr_cause, statements=N[:, idxs]):\n",
    "                return cause, idxs\n",
    "    return None, None\n",
    "\n",
    "def algorithm(E, N, maximal=True):\n",
    "    \"\"\"\n",
    "    Algorithm 1; producing a maximally general set or simplified set of clauses H which covers E and avoids N\n",
    "    (3.3) in Logic_and_probability_7.pdf\n",
    "    \"\"\"\n",
    "    inxs = []\n",
    "    H = []\n",
    "    used = set()\n",
    "    for cause in N:\n",
    "        cause = [int(not c) for c in cause]\n",
    "        cause, idxs = find_H(cause, E, N, maximal)\n",
    "        if cause is not None:\n",
    "            curr = tuple([cause[i] for i in idxs] + list(idxs))\n",
    "            if curr in used:\n",
    "                continue\n",
    "            used.add(curr)\n",
    "            H.append(cause)\n",
    "            inxs.append(idxs)\n",
    "    return zip(H, inxs)\n",
    "\n",
    "Fi = algorithm(E, N, maximal=True)\n",
    "print('Maximally CNF:')\n",
    "print(' ∧ '.join(map(cause_str, Fi)))\n",
    "\n",
    "Fi = algorithm(E, N, maximal=False)\n",
    "print('Simplified CNF:')\n",
    "print(' ∧ '.join(map(cause_str, Fi)))"
   ]
  },
  {
   "cell_type": "markdown",
   "metadata": {},
   "source": [
    "#### Answer 1.b  \n",
    "Algorithm 1/2; producing a maximally general set or simplified set of clauses H which covers E and avoids N. (3.3) in Logic_and_probability_7.pdf\n",
    "\n",
    "\n",
    "1. φ with Maximally CNF: \n",
    "\n",
    "    (p ∨ ¬q ∨ r) ∧ (¬p ∨ q ∨ r) ∧ (¬p ∨ ¬q ∨ r)\n",
    "\n",
    "2. φ with Simplified CNF: \n",
    "\n",
    "    (¬q ∨ r) ∧ (¬p ∨ r)\n"
   ]
  },
  {
   "cell_type": "markdown",
   "metadata": {},
   "source": [
    "##### In the rest of the assignments L and M refer to the language L and L-structure M that we now define. \n",
    "\n",
    "Let L = {P,Q,R,S,T} where the relation symbols P,Q,R,S,T have arities 1,1,2,2,2, respectively.\n",
    "\n",
    "Let M b e the L-structure with domain M = {1,2,3,...,20} and the following interpretations of the relation symbols:\n",
    "* PM = {1,2,3,4,5,6,7,8,9,10},\n",
    "* QM = {1,2,3,4,5,11,12,13,14,15},\n",
    "* RM = {(i,j) : i ̸= j,1 ≤i ≤5 and 1 ≤j ≤5},\n",
    "* SM = {(2,5),(3,1),(4,3),(1,2),(5,4),(2,3),(4,2),(1,3),(3,5),(4,5)},\n",
    "* TM = {(2,5),(3,1),(4,3),(1,2),(5,4),(3,2),(2,1),(1,4),(2,4),(5,2)}."
   ]
  },
  {
   "cell_type": "code",
   "execution_count": 24,
   "metadata": {},
   "outputs": [],
   "source": [
    "# lets define a base class to work with. it needs to have a name and arity\n",
    "class Base:\n",
    "    name = None\n",
    "    arity = None\n",
    "    def __repr__(self) -> str:\n",
    "        return self.name + '(' + ','.join(map(str, self.args)) + ')'\n",
    "    def __eq__(self, value: object) -> bool:\n",
    "        return value.name == self.name and value.args == self.args\n",
    "    def __hash__(self) -> int:\n",
    "        return hash(self.name) + hash(self.args)\n",
    "\n",
    "class Target:\n",
    "    def __init__(self, name, arg, pos=0):\n",
    "        self.name = name\n",
    "        self.arg = arg\n",
    "        self.pos = pos\n",
    "    def __repr__(self) -> str:\n",
    "        return f'{self.name}'\n",
    "    def __eq__(self, value: object) -> bool:\n",
    "        return str(value) == str(self)\n",
    "    def __hash__(self) -> int:\n",
    "        return hash(self.name + str(self.arg) + str(self.pos))\n",
    "    \n",
    "class P(Base):\n",
    "    name = \"P\"\n",
    "    arity = 1\n",
    "    def __init__(self, *args):\n",
    "        self.args = args\n",
    "        assert len(args) == self.arity\n",
    "    \n",
    "class Q(Base):\n",
    "    name = \"Q\"\n",
    "    arity = 1\n",
    "    def __init__(self, *args):\n",
    "        self.args = args\n",
    "        assert len(args) == self.arity\n",
    "\n",
    "class R(Base):\n",
    "    name = \"R\"\n",
    "    arity = 2\n",
    "    def __init__(self, *args):\n",
    "        self.args = args\n",
    "        assert len(args) == self.arity\n",
    "\n",
    "class S(Base):\n",
    "    name = \"S\"\n",
    "    arity = 2\n",
    "    def __init__(self, *args):\n",
    "        self.args = args\n",
    "        assert len(args) == self.arity\n",
    "\n",
    "class T(Base):\n",
    "    name = \"T\"\n",
    "    arity = 2\n",
    "    def __init__(self, *args):\n",
    "        self.args = args\n",
    "        assert len(args) == self.arity\n",
    "        \n",
    "M = set(range(1,21))\n",
    "PM = set(map(P, [1,2,3,4,5,6,7,8,9,10]))\n",
    "QM = set(map(Q, [1,2,3,4,5,11,12,13,14,15]))\n",
    "RM = {R(i,j) for i in range(1,6) for j in range(1,6) if i != j}\n",
    "SM = set(map(S, [2,3,4,1,5,2,4,1,3,4], [5,1,3,2,4,3,2,3,5,5]))\n",
    "TM = set(map(T, [2,3,4,1,5,3,2,1,2,5], [5,1,3,2,4,2,1,4,4,2]))"
   ]
  },
  {
   "cell_type": "markdown",
   "metadata": {},
   "source": [
    "#### Inductive logic programming and concept learning\n",
    "\n",
    "* Would in it be fun to implement the algorithm that helps us to learn concepts? Yes!\n",
    "* Can we use example in the in Logic_and_probability_7.pdf to guide and validate our implementation? Yes!\n",
    "* Is it harder then just solving the assignments by hand? Yes!\n",
    "* Is solving the assignments by hand a good idea? Probably Yes!\n",
    "* Will we implement the algorithm even though it is harder and christmas is coming close? Yes!\n",
    "\n",
    "Thank your patience. Lets get started!\n",
    "\n",
    "PS. I will try to add some comments to the code to make it more readable. Don't skip them pls."
   ]
  },
  {
   "cell_type": "code",
   "execution_count": 25,
   "metadata": {},
   "outputs": [],
   "source": [
    "def valid_combs(arity, variables):\n",
    "    return filter(lambda x: len(set(x)) == len(x), product(range(variables), repeat=arity))\n",
    "    \n",
    "# how do we learn a concept?\n",
    "# lets iterate over all possible concepts!\n",
    "def concept_learning(statement, domain, relations, structures, extra_variables=0, concept_size=2):\n",
    "    # we need to find a concept that is true and false for all relation examples\n",
    "    result = defaultdict(set)\n",
    "    # We need to find a concept that has at least the same amount of variables as the arity as the statement\n",
    "    variables = statement.arity\n",
    "    # lets iterate over all possible concepts of size concept_size\n",
    "    for structs in tqdm(list(combinations_with_replacement(structures, concept_size))):\n",
    "        init_var_stat = list(range(variables))\n",
    "        # lets build and abstract target string\n",
    "        target_str = str(statement(*[f\"x{j}\" for j in init_var_stat]))\n",
    "\n",
    "        # lets iterate possible initializations of the concept\n",
    "        for init_var_concept in product(*[valid_combs(s.arity, variables+extra_variables) for s in list(structs)]):\n",
    "            # if the concept has less variables than the target statement the skip it\n",
    "            if not all(map(lambda x: x in [i for row in init_var_concept for i in row], init_var_stat)):\n",
    "                continue\n",
    "\n",
    "            # lets iterate over all possible truth values\n",
    "            for truths in product([lambda x: x, lambda x: not x], repeat=len(structs)):\n",
    "                # lets build and abstract concept string\n",
    "                truths_str = [\"¬\" if t(False) else \"\" for t in truths]\n",
    "                concept_str = ' ∧ '.join(sorted(set([t+str(s(*[f\"x{i}\" for i in v])) for t, s, v in zip(truths_str, structs, init_var_concept)])))\n",
    "\n",
    "                for d in filter(lambda x: len(set(x)) == len(x), product(domain, repeat=variables)):\n",
    "                    # lets initialize the statement\n",
    "                    stat = statement(*[d[j] for j in init_var_stat])\n",
    "                    # lets check if the statement is true or false for all relations\n",
    "                    target_stat = stat in relations[stat.name]\n",
    "        \n",
    "                    # if we have extra variables we need to iterate over them as well\n",
    "                    for e in product([dom for dom in domain if dom not in d], repeat=extra_variables):\n",
    "                        cd = d + e\n",
    "                        # lets initialize the concept\n",
    "                        concept = [s(*[cd[j] for j in v]) for s, v in zip(structs, init_var_concept)]\n",
    "                        # lets check if the concept is true or false for all relations\n",
    "                        condition_concept = [ t(r) for r, t in zip(map(lambda x: x in relations[x.name], concept), truths) ]\n",
    "                        # lets save the result\n",
    "                        result[(concept_str, target_str, e)].add((all(condition_concept), target_stat))\n",
    "\n",
    "    # we are know have a dictionary with all possible concepts and their truth values\n",
    "    return result\n",
    "\n",
    "# how do we read what concepts we have learned?\n",
    "def parse_result(result):\n",
    "    concepts_eq = set()\n",
    "    concepts_imp = set()\n",
    "    # lets iterate over all concepts\n",
    "    for (c, t, e), examples in result.items():\n",
    "        # lets check if c implies t and t implies c since thats the same as c <-> t\n",
    "        if not any(map(lambda x: x[0] and not x[1], examples)) and not any(map(lambda x: not x[0] and x[1], examples)):\n",
    "            concepts_eq.add(f\"{c} <-> {t}\")\n",
    "        elif not any(map(lambda x: x[0] and not x[1], examples)): # c -> t\n",
    "            concepts_imp.add(f\"{c} -> {t}\")\n",
    "  \n",
    "    # WOW! we have learned some concepts\n",
    "    return concepts_eq, concepts_imp\n",
    "\n"
   ]
  },
  {
   "cell_type": "markdown",
   "metadata": {},
   "source": [
    "#### Lets start by solving the assignments in the Logic_and_probability_7.pdf (3.4.1) "
   ]
  },
  {
   "cell_type": "code",
   "execution_count": 26,
   "metadata": {},
   "outputs": [
    {
     "name": "stderr",
     "output_type": "stream",
     "text": [
      "100%|██████████| 6/6 [00:00<00:00, 352.79it/s]\n"
     ]
    },
    {
     "name": "stdout",
     "output_type": "stream",
     "text": [
      "Concepts: Daughters\n",
      "F(x0) ∧ P(x1,x0) <-> D(x0,x1)\n"
     ]
    },
    {
     "name": "stderr",
     "output_type": "stream",
     "text": [
      "  0%|          | 0/10 [00:00<?, ?it/s]"
     ]
    },
    {
     "name": "stderr",
     "output_type": "stream",
     "text": [
      "100%|██████████| 10/10 [00:07<00:00,  1.27it/s]"
     ]
    },
    {
     "name": "stdout",
     "output_type": "stream",
     "text": [
      "Concepts: Grandmothers\n",
      "F(x0) ∧ P(x0,x2) ∧ P(x2,x1) <-> G(x0,x1)\n",
      "D(x2,x0) ∧ F(x0) ∧ P(x2,x1) <-> G(x0,x1)\n"
     ]
    },
    {
     "name": "stderr",
     "output_type": "stream",
     "text": [
      "\n"
     ]
    }
   ],
   "source": [
    "# python lacks a scope so we need to define a function to not pollute the global namespace\n",
    "def scope():\n",
    "    class F(Base):\n",
    "        arity = 1\n",
    "        name = \"F\"\n",
    "        def __init__(self, *args):\n",
    "            self.args = args\n",
    "            assert len(args) == F.arity\n",
    "        \n",
    "    class P(Base):\n",
    "        arity = 2\n",
    "        name = \"P\"\n",
    "        def __init__(self, *args):\n",
    "            self.args = args\n",
    "            assert len(args) == P.arity\n",
    "\n",
    "    class D(Base):\n",
    "        arity = 2\n",
    "        name = \"D\"\n",
    "        def __init__(self, *args):\n",
    "            self.args = args\n",
    "            assert len(args) == D.arity\n",
    "\n",
    "    class G(Base):\n",
    "        arity = 2\n",
    "        name = \"G\"\n",
    "        def __init__(self, *args):\n",
    "            self.args = args\n",
    "            assert len(args) == G.arity\n",
    "\n",
    "    A = ['a', 'b', 'e', 'g', 'h', 'm', 'n', 't']\n",
    "\n",
    "    relations = {'F': {F('m'), F('h'), F('e'), F('n')}, # (i.e. m,n,e, and n are females),\n",
    "                'P': {P('g', 'm'), P('h', 'm'), P('h', 't'), P('t', 'e'), P('n', 'e'), P('a', 't'), P('e', 'b')}, # (i.e. g is a parent of m, h is a parent of m, and so on)\n",
    "                'D': {D('m', 'g'), D('m', 'h'), D('e', 't'), D('e', 'n')}, # (i.e. m is a daughter of g)\n",
    "                'G': {G('h', 'e'), G('n', 'b')}, # (i.e. h is a grandmother of e, n is a grandmother of b)\n",
    "    }\n",
    "\n",
    "    result = concept_learning(D, A, relations, [F, P, G], extra_variables=0, concept_size=2)\n",
    "    concepts_eq, concepts_imp = parse_result(result)\n",
    "    print('Concepts: Daughters')\n",
    "\n",
    "    for c in concepts_eq:\n",
    "        print(c)\n",
    "\n",
    "    result = concept_learning(G, A, relations, [F, P, D], extra_variables=1, concept_size=3)\n",
    "    concepts_eq, concepts_imp = parse_result(result)\n",
    "    print('Concepts: Grandmothers')\n",
    "\n",
    "    for c in concepts_eq:\n",
    "        print(c)\n",
    "scope()"
   ]
  },
  {
   "cell_type": "markdown",
   "metadata": {},
   "source": [
    "Result:\n",
    "\n",
    "We found the following concept for Daughters:\n",
    "1. F(x1) ∧ P(x0,x1) <-> D(x0,x1)\n",
    "\n",
    "This makes sense witch is good!\n",
    "\n",
    "We found the following concept for Grandmothers:\n",
    "\n",
    "1. F(x0) ∧ P(x2,x1) ∧ P(x0,x2) <-> G(x0,x1)\n",
    "2. F(x0) ∧ P(x2,x1) ∧ D(x2,x0) <-> G(x0,x1)\n",
    "\n",
    "That is cool since we found one that was expected and one that was not expected but makes sense.\n",
    "\n",
    "Ether we are a grandmother to the child of our child or that our mother is a grandmother to our child. \n"
   ]
  },
  {
   "cell_type": "markdown",
   "metadata": {},
   "source": [
    "#### Assignment 2\n",
    "\n",
    "Learning the concept R(x,y): Find literals θ1(x,y),...,θn(x,y) which do not contain R and such that M |= ∀x∀y((θ1(x,y)∧...∧θn(x,y)) → R(x,y)) and M|= ∃x∃y(θ1(x,y)∧...∧θn(x,y)). Observe that a literal denoted θk(x,y) above need not necessarily contain both variables x and y and it may be of the form x = y or ¬(x = y).\n",
    "There may be several possibilities, but to get maximal credit on this assignment you\n",
    "need to find such θ1(x,y),...,θn(x,y) so that \n",
    "\n",
    "$$\n",
    "M|= ∀x∀y((θ1(x,y) ∧... ∧θn(x,y)) ↔ R(x,y))\n",
    "$$"
   ]
  },
  {
   "cell_type": "code",
   "execution_count": 27,
   "metadata": {},
   "outputs": [
    {
     "name": "stderr",
     "output_type": "stream",
     "text": [
      "100%|██████████| 35/35 [00:14<00:00,  2.41it/s]"
     ]
    },
    {
     "name": "stdout",
     "output_type": "stream",
     "text": [
      "Concepts: R\n",
      "P(x0) ∧ P(x1) ∧ Q(x0) ∧ Q(x1) <-> R(x0,x1)\n"
     ]
    },
    {
     "name": "stderr",
     "output_type": "stream",
     "text": [
      "\n"
     ]
    }
   ],
   "source": [
    "relations = {'P': PM, 'Q': QM, 'R': RM, 'S': SM, 'T': TM}\n",
    "\n",
    "result = concept_learning(R, M, relations, [P, Q, S, T], extra_variables=0, concept_size=4)\n",
    "concepts_eq, concepts_imp = parse_result(result)\n",
    "print('Concepts: R')\n",
    "for c in concepts_eq:\n",
    "    print(c)\n"
   ]
  },
  {
   "cell_type": "markdown",
   "metadata": {},
   "source": [
    "#### Answer 2\n",
    "\n",
    "Concept a that is learned for R is:\n",
    "$$\n",
    "P(x0) ∧ P(x1) ∧ Q(x0) ∧ Q(x1) ↔ R(x0,x1) \n",
    "$$\n",
    "\n",
    "After a solution its easy to see that this is a correct solution. However there might exist other solutions that has a larger set of literals. However the smallest set of literals that gives the correct solution is 4 literals.\n"
   ]
  },
  {
   "cell_type": "markdown",
   "metadata": {},
   "source": [
    "#### Construction of a probabilistic model and inference\n",
    "\n",
    "As previously lets use the course material to guide the implementation and validation of the algorithm.\n",
    "Its imt to travel to the land of chapter 5 in Logic_and_probability_7.pdf   \n",
    "\n",
    "Algorithm1 for finding the arrows of a DAG corresponding to a lifted Bayesian network:\n",
    "```\n",
    "Set k := 1 and as long as k < m do:\n",
    "    For every i = 1,...,k, add an arrow from φi to φk+1.\n",
    "    Set I := {1,...,k}.\n",
    "    For i = 1,...,k do:\n",
    "        If φk+1 and φi are conditionally independent over (φj : j ∈I \\{i}), then \n",
    "            remove i from I (i.e. set I := I \\{i}) and remove the arrow from φi to φk+1. \n",
    "        Otherwise\n",
    "            do nothing.\n",
    "    Set k := k + 1.\n",
    "Next, for every vertex φk with parents φi1,...,φis , say, one computes the conditional probability\n",
    "μ^{n}(φk = 1 | φi1 = b1,...,φis = bs) for every choice of b1,...,bs ∈{0,1}.\n",
    "```\n",
    "\n"
   ]
  },
  {
   "cell_type": "code",
   "execution_count": 28,
   "metadata": {},
   "outputs": [],
   "source": [
    "import networkx as nx\n",
    "import matplotlib.pyplot as plt\n",
    "from fractions import Fraction"
   ]
  },
  {
   "cell_type": "code",
   "execution_count": 29,
   "metadata": {},
   "outputs": [],
   "source": [
    "def intersect(obj, relations, phi):\n",
    "    offset = 0\n",
    "    if isinstance(phi, Target):\n",
    "        offset = phi.pos\n",
    "    res = set()\n",
    "    for o in obj:\n",
    "        for r in relations:\n",
    "            if r.args == o[offset:r.arity+offset]:\n",
    "                res.add(o)\n",
    "    return res\n",
    "\n",
    "def left_join(obj, relations, phi):\n",
    "    offset = 0\n",
    "    if isinstance(phi, Target):\n",
    "        offset = phi.pos\n",
    "    res = obj.copy()\n",
    "    for o in obj:\n",
    "        for r in relations:\n",
    "            if r.args == o[offset:r.arity+offset]:\n",
    "                res.discard(o)\n",
    "    return res\n",
    "\n",
    "def full(M, arity):\n",
    "    return set(product(M, repeat=arity))\n",
    "def full_uniq(M, arity):\n",
    "    return set(filter(lambda x: len(set(x)) == len(x), product(M, repeat=arity)))\n",
    "\n",
    "class BayesianNetwork:\n",
    "    def __init__(self, nodes, M, relations, arity):\n",
    "        self.nodes = nodes\n",
    "        self.edges = []\n",
    "        self.M = M\n",
    "        self.relations = relations\n",
    "        self.arity = arity\n",
    "        self.parents = defaultdict(set)\n",
    "        self.children = defaultdict(set)\n",
    "\n",
    "    def add_edge(self, node1, node2):\n",
    "        self.edges.append((node1, node2))\n",
    "        self.parents[node2].add(node1)\n",
    "        self.children[node1].add(node2)\n",
    "    \n",
    "    def remove_edge(self, node1, node2):\n",
    "        self.edges.remove((node1, node2))\n",
    "        self.parents[node2].remove(node1)\n",
    "        self.children[node1].remove(node2)\n",
    "\n",
    "    def draw(self):\n",
    "        G = nx.DiGraph()\n",
    "        G.add_nodes_from([f'{n.name}({n.arg})' if isinstance(n, Target) else f'{n}' for n in self.nodes])\n",
    "        for arrow in self.edges:\n",
    "            a1 = arrow[0]\n",
    "            a2 = arrow[1]\n",
    "            if isinstance(a1, Target):\n",
    "                a1 = f'{a1.name}({a1.arg})'\n",
    "            if isinstance(a2, Target):\n",
    "                a2 = f'{a2.name}({a2.arg})'\n",
    "            G.add_edge(a1, a2)\n",
    "        nx.draw(G, with_labels=True, node_size=2000, node_color=\"lightblue\", font_size=14)\n",
    "    \n",
    "    def table(self):\n",
    "        # lets build a table using BFS\n",
    "        used = set()\n",
    "        frontier = list(filter(lambda x: len(self.parents[x]) == 0, self.nodes))\n",
    "        print('Conditional probabilities:')\n",
    "        while len(frontier) > 0:\n",
    "            node = frontier.pop(0)\n",
    "            if node in used:\n",
    "                continue\n",
    "            used.add(node)\n",
    "            parents = self.parents[node]\n",
    "            # lets compute the conditional probability based on the parents\n",
    "            for op in product([True, False], repeat=len(parents)):\n",
    "                repr = [] # lets build a representation of the conditional probability\n",
    "                value = 0\n",
    "                full_set = full_uniq(self.M, self.arity) # make sure that x /= y\n",
    "                for n, p in zip(parents, op):\n",
    "                    if p:\n",
    "                        if isinstance(n, Target):\n",
    "                            repr.append(f'{n}({n.arg})')\n",
    "                        else:\n",
    "                            repr.append(f'{n}')\n",
    "                        # if its true we need to get the intersection if the sets\n",
    "                        full_set = intersect(full_set, self.relations[str(n)], n)\n",
    "                    else:\n",
    "                        if isinstance(n, Target):\n",
    "                            repr.append(f'¬{n}({n.arg})')\n",
    "                        else:\n",
    "                            repr.append(f'¬{n}')\n",
    "                        # if its false we need to get the left join of the sets\n",
    "                        full_set = left_join(full_set, self.relations[str(n)], n)\n",
    "                p_str = ''\n",
    "                if len(repr) > 0:\n",
    "                    p_str = ' | '+' ∧ '.join(repr)\n",
    "\n",
    "                node_str = f'{node}'\n",
    "                if isinstance(node, Target):\n",
    "                    node_str = f'{node}({node.arg})'\n",
    "                # if the set is empty then its undefined\n",
    "                if len(full_set) == 0:\n",
    "                    print(f'μ({node_str}{p_str}) = undefined')\n",
    "                else:\n",
    "                    # lets count conditional probability\n",
    "                    known = intersect(full_set, self.relations[str(node)], node)\n",
    "                    value = len(known)/len(full_set)\n",
    "                    # lts print the conditional probability as a fraction :) \n",
    "                    print(f'μ({node_str}{p_str}) = { Fraction(value).limit_denominator(100)}')\n",
    "                    # print(known)\n",
    "                    # print(full_set)\n",
    "                \n",
    "            print('-'*20)\n",
    "            # dont forget you children\n",
    "            for child in self.children[node]:\n",
    "                frontier.append(child)\n",
    "        \n",
    "\n",
    "def build_lifted_network(M, phi, relations, arity=1):\n",
    "    # lets build a network\n",
    "    network = BayesianNetwork(phi, M, relations, arity)\n",
    "    # lets make sure that the relations are in the correct order\n",
    "    rel = [relations[str(n)] for n in phi]\n",
    "    \n",
    "    # following the algorithm in 5.1\n",
    "    for k in range(len(phi)-1):\n",
    "        for i in range(0, k+1):\n",
    "            network.add_edge(phi[i], phi[k+1])\n",
    "        I = set(range(k+1))\n",
    "        for i in range(k+1):\n",
    "            if is_conditionally_independent(rel, phi, k+1, I, i, M, arity):\n",
    "                I.remove(i)\n",
    "                network.remove_edge(phi[i], phi[k+1])\n",
    "    return network\n",
    "\n",
    "\n",
    "def is_conditionally_independent(relations, phi, k, I, i, M, arity):\n",
    "    # lets copy the k relation\n",
    "    k_set = relations[k].copy()\n",
    "    dependents = []\n",
    "    for op in product([True, False], repeat=len(I)):\n",
    "        # lets build the full possible set\n",
    "        full_set = full(M, arity)\n",
    "        # lets se what left after evaluating the conjunction\n",
    "        for j, p in zip(I, op):\n",
    "            if p:\n",
    "                # if its true we need to get the intersection if the sets \n",
    "                full_set = intersect(full_set, relations[j], phi[j])\n",
    "            else:\n",
    "                # if its false we need to get the left join of the sets\n",
    "                full_set = left_join(full_set, relations[j], phi[j])\n",
    "        # if the set is empty then we cant do anything\n",
    "        if len(full_set) == 0:\n",
    "            dependents.append(False)\n",
    "            continue\n",
    "        # lets count conditional probability\n",
    "        full_val = len(intersect(full_set, k_set, phi[k]))/len(full_set)\n",
    "        # lets build the subset that excludes i\n",
    "        sub_set = full(M, arity)\n",
    "        for j, p in zip(I-{i}, op):\n",
    "            if p:\n",
    "                # if its true we need to get the intersection if the sets\n",
    "                sub_set = intersect(sub_set, relations[j], phi[j])\n",
    "            else:\n",
    "                # if its false we need to get the left join of the sets\n",
    "                sub_set = left_join(sub_set, relations[j], phi[j])\n",
    "        # if the set is empty then we cant do anything\n",
    "        if len(sub_set) == 0:\n",
    "            dependents.append(False)\n",
    "            continue\n",
    "        # lets count conditional probability\n",
    "        sub_val = len(intersect(sub_set, k_set, phi[k]))/len(sub_set)\n",
    "        # lets check if the conditional probability is the same\n",
    "        dependents.append(full_val == sub_val)\n",
    "    return all(dependents)\n",
    "\n",
    "\n"
   ]
  },
  {
   "cell_type": "code",
   "execution_count": 30,
   "metadata": {},
   "outputs": [],
   "source": [
    "class I1(Base):\n",
    "    arity = 1\n",
    "    name = \"I1\"\n",
    "    def __init__(self, *args):\n",
    "        self.args = args\n",
    "        assert len(args) == I1.arity\n",
    "class I2(Base):\n",
    "    arity = 1\n",
    "    name = \"I2\"\n",
    "    def __init__(self, *args):\n",
    "        self.args = args\n",
    "        assert len(args) == I2.arity\n",
    "\n",
    "class I3(Base):\n",
    "    arity = 1\n",
    "    name = \"I3\"\n",
    "    def __init__(self, *args):\n",
    "        self.args = args\n",
    "        assert len(args) == I3.arity\n",
    "\n",
    "M2 = {'A', 'B', 'C', 'D', 'E', 'F', 'G', 'H', 'I', 'J', 'K', 'L'}\n",
    "I1M = {I1('A'), I1('D'), I1('F'), I1('G'), I1('J'), I1('L')}\n",
    "I2M = {I2('B'), I2('D'), I2('G'), I2('I'), I2('J'), I2('L')}\n",
    "I3M = {I3('A'), I3('C'), I3('D'), I3('F'), I3('G'), I3('I'), I3('K'), I3('J'), I3('L')}"
   ]
  },
  {
   "cell_type": "code",
   "execution_count": 31,
   "metadata": {},
   "outputs": [
    {
     "name": "stdout",
     "output_type": "stream",
     "text": [
      "Conditional probabilities:\n",
      "μ(I1(x)) = 1/2\n",
      "--------------------\n",
      "μ(I2(x) | I1(x)) = 2/3\n",
      "μ(I2(x) | ¬I1(x)) = 1/3\n",
      "--------------------\n",
      "μ(I3(x) | I1(x)) = 1\n",
      "μ(I3(x) | ¬I1(x)) = 1/2\n",
      "--------------------\n"
     ]
    },
    {
     "data": {
      "image/png": "[encoded data removed]",
      "text/plain": [
       "<Figure size 640x480 with 1 Axes>"
      ]
     },
     "metadata": {},
     "output_type": "display_data"
    }
   ],
   "source": [
    "relations2 = {'I1(x)': I1M, \n",
    "             'I2(x)': I2M,\n",
    "             'I3(x)': I3M,\n",
    "}\n",
    "phi = ['I1(x)', 'I2(x)', 'I3(x)']\n",
    "\n",
    "bayesian_network = build_lifted_network(M2, phi, relations2)\n",
    "bayesian_network.table()\n",
    "bayesian_network.draw()\n",
    "plt.show()"
   ]
  },
  {
   "cell_type": "code",
   "execution_count": 32,
   "metadata": {},
   "outputs": [
    {
     "name": "stdout",
     "output_type": "stream",
     "text": [
      "Conditional probabilities:\n",
      "μ(I3(x)) = 3/4\n",
      "--------------------\n",
      "μ(I1(x) | I3(x)) = 2/3\n",
      "μ(I1(x) | ¬I3(x)) = 0\n",
      "--------------------\n",
      "μ(I2(x) | I1(x) ∧ I3(x)) = 2/3\n",
      "μ(I2(x) | I1(x) ∧ ¬I3(x)) = undefined\n",
      "μ(I2(x) | ¬I1(x) ∧ I3(x)) = 1/3\n",
      "μ(I2(x) | ¬I1(x) ∧ ¬I3(x)) = 1/3\n",
      "--------------------\n"
     ]
    },
    {
     "data": {
      "image/png": "[encoded data removed]",
      "text/plain": [
       "<Figure size 640x480 with 1 Axes>"
      ]
     },
     "metadata": {},
     "output_type": "display_data"
    }
   ],
   "source": [
    "phi = ['I3(x)', 'I1(x)', 'I2(x)', ]\n",
    "\n",
    "bayesian_network = build_lifted_network(M2, phi, relations2)\n",
    "bayesian_network.table()\n",
    "bayesian_network.draw()\n",
    "plt.show()"
   ]
  },
  {
   "cell_type": "code",
   "execution_count": 33,
   "metadata": {},
   "outputs": [
    {
     "name": "stdout",
     "output_type": "stream",
     "text": [
      "Conditional probabilities:\n",
      "μ(BIG(x)) = 3/8\n",
      "--------------------\n",
      "μ(BIG(y)) = 3/8\n",
      "--------------------\n",
      "μ(DIRECT(x,y) | BIG(x) ∧ BIG(y)) = 2/3\n",
      "μ(DIRECT(x,y) | BIG(x) ∧ ¬BIG(y)) = 1/3\n",
      "μ(DIRECT(x,y) | ¬BIG(x) ∧ BIG(y)) = 1/3\n",
      "μ(DIRECT(x,y) | ¬BIG(x) ∧ ¬BIG(y)) = 1/10\n",
      "--------------------\n"
     ]
    },
    {
     "data": {
      "image/png": "[encoded data removed]",
      "text/plain": [
       "<Figure size 640x480 with 1 Axes>"
      ]
     },
     "metadata": {},
     "output_type": "display_data"
    }
   ],
   "source": [
    "class Big(Base):\n",
    "    arity = 1\n",
    "    name = \"BIG\"\n",
    "    def __init__(self, *args):\n",
    "        self.args = args\n",
    "        assert len(args) == Big.arity\n",
    "\n",
    "class Direct(Base):\n",
    "    arity = 2\n",
    "    name = \"DIRECT\"\n",
    "    def __init__(self, *args):\n",
    "        self.args = args\n",
    "        assert len(args) == Direct.arity\n",
    "\n",
    "\n",
    "M3 = {'A', 'B', 'C', 'D', 'E', 'F', 'G', 'H'}\n",
    "BigM = {Big('A'),Big('E'),Big('H')}\n",
    "DirectM = {Direct('A', 'B'), \n",
    "           Direct('B', 'A'), \n",
    "           Direct('A', 'H'), \n",
    "           Direct('H', 'A'), \n",
    "           Direct('B', 'C'), \n",
    "           Direct('C', 'B'), \n",
    "           Direct('B', 'E'), \n",
    "           Direct('E', 'B'), \n",
    "           Direct('E', 'D'), \n",
    "           Direct('D', 'E'), \n",
    "           Direct('E', 'F'), \n",
    "           Direct('F', 'E'), \n",
    "           Direct('E', 'H'), \n",
    "           Direct('H', 'E'), \n",
    "           Direct('H', 'G'), \n",
    "           Direct('G', 'H'),\n",
    "           }\n",
    "\n",
    "relations3 = {'BIG': BigM, \n",
    "              'DIRECT': DirectM,\n",
    "}\n",
    "phi = [Target('BIG', 'x', 0),Target('BIG', 'y', 1), Target('DIRECT', 'x,y')]\n",
    "\n",
    "bayesian_network = build_lifted_network(M3, phi, relations3, arity=2)\n",
    "bayesian_network.table()\n",
    "bayesian_network.draw()"
   ]
  },
  {
   "cell_type": "markdown",
   "metadata": {},
   "source": [
    "After evaluating the algorithm on the textbook example i feel confident that it has somewhat reasonable chance of working. Let continue with the assignment 3."
   ]
  },
  {
   "cell_type": "markdown",
   "metadata": {},
   "source": [
    "#### Assignment 3\n",
    "(Learning a Bayesian network) Construct a Bayesian network from M in the way explained in Chapter 5.1 using the following order of the formulas, also viewed as random variables from $M^{2}$ to {0,1}: $P(x), P(y), Q(x), Q(y), R(x,y), S(x,y), T(x,y)$. As explained in Chapter 4, we can identify P(x) with a random variable $P_x: $M^{2}$ → {0,1} such that $P_x(a,b)$ = 1 if M |= P(a) and $P_x(a,b)$ = 0 otherwise. P(y) can be identified with a random variable $P_y: $M^{2}$ → {0,1} such that $P_y(a,b)$ = 1 if M |= P(b) and $P_y(a,b)$ = 0 otherwise. If you need you can use conditions like 'x = y' or 'x ̸= y' when specifying conditions for conditional probabilities (although we don't view such formulas as vertices of the network).\n",
    "\n",
    "It is also possible, and acceptable, to construct a lifted Bayesian network with vertices $P,Q,R,S,T$ (considered in this order) as defined in Definition 6.2.1 in my notes. The procedure will b e essentially the same and you have to do the same calculations. The resulting lifted Bayesian network will b e similar to the one obtained by the first approach, but not identical since the later has 5 vertices while the first has 7. (In the later approach $P(x)$ and $P(y)$ are identified, and $Q(x)$ and $Q(y)$ are identified.) When determining (conditional) independence you can use the usual mathematical definition of independence, as there is no need for \"approximation\" in this assignment. Use the counting measure (i.e. uniform probability distribution) μ : M → R when determining (conditional) probabilities."
   ]
  },
  {
   "cell_type": "code",
   "execution_count": 34,
   "metadata": {},
   "outputs": [
    {
     "name": "stdout",
     "output_type": "stream",
     "text": [
      "Conditional probabilities:\n",
      "μ(P(x)) = 1/2\n",
      "--------------------\n",
      "μ(P(y)) = 1/2\n",
      "--------------------\n",
      "μ(Q(x)) = 1/2\n",
      "--------------------\n",
      "μ(Q(y)) = 1/2\n",
      "--------------------\n",
      "μ(S(x,y) | P(x) ∧ Q(y) ∧ Q(x) ∧ R(x,y) ∧ P(y)) = 1/2\n",
      "μ(S(x,y) | P(x) ∧ Q(y) ∧ Q(x) ∧ R(x,y) ∧ ¬P(y)) = undefined\n",
      "μ(S(x,y) | P(x) ∧ Q(y) ∧ Q(x) ∧ ¬R(x,y) ∧ P(y)) = undefined\n",
      "μ(S(x,y) | P(x) ∧ Q(y) ∧ Q(x) ∧ ¬R(x,y) ∧ ¬P(y)) = 0\n",
      "μ(S(x,y) | P(x) ∧ Q(y) ∧ ¬Q(x) ∧ R(x,y) ∧ P(y)) = undefined\n",
      "μ(S(x,y) | P(x) ∧ Q(y) ∧ ¬Q(x) ∧ R(x,y) ∧ ¬P(y)) = undefined\n",
      "μ(S(x,y) | P(x) ∧ Q(y) ∧ ¬Q(x) ∧ ¬R(x,y) ∧ P(y)) = 0\n",
      "μ(S(x,y) | P(x) ∧ Q(y) ∧ ¬Q(x) ∧ ¬R(x,y) ∧ ¬P(y)) = 0\n",
      "μ(S(x,y) | P(x) ∧ ¬Q(y) ∧ Q(x) ∧ R(x,y) ∧ P(y)) = undefined\n",
      "μ(S(x,y) | P(x) ∧ ¬Q(y) ∧ Q(x) ∧ R(x,y) ∧ ¬P(y)) = undefined\n",
      "μ(S(x,y) | P(x) ∧ ¬Q(y) ∧ Q(x) ∧ ¬R(x,y) ∧ P(y)) = 0\n",
      "μ(S(x,y) | P(x) ∧ ¬Q(y) ∧ Q(x) ∧ ¬R(x,y) ∧ ¬P(y)) = 0\n",
      "μ(S(x,y) | P(x) ∧ ¬Q(y) ∧ ¬Q(x) ∧ R(x,y) ∧ P(y)) = undefined\n",
      "μ(S(x,y) | P(x) ∧ ¬Q(y) ∧ ¬Q(x) ∧ R(x,y) ∧ ¬P(y)) = undefined\n",
      "μ(S(x,y) | P(x) ∧ ¬Q(y) ∧ ¬Q(x) ∧ ¬R(x,y) ∧ P(y)) = 0\n",
      "μ(S(x,y) | P(x) ∧ ¬Q(y) ∧ ¬Q(x) ∧ ¬R(x,y) ∧ ¬P(y)) = 0\n",
      "μ(S(x,y) | ¬P(x) ∧ Q(y) ∧ Q(x) ∧ R(x,y) ∧ P(y)) = undefined\n",
      "μ(S(x,y) | ¬P(x) ∧ Q(y) ∧ Q(x) ∧ R(x,y) ∧ ¬P(y)) = undefined\n",
      "μ(S(x,y) | ¬P(x) ∧ Q(y) ∧ Q(x) ∧ ¬R(x,y) ∧ P(y)) = 0\n",
      "μ(S(x,y) | ¬P(x) ∧ Q(y) ∧ Q(x) ∧ ¬R(x,y) ∧ ¬P(y)) = 0\n",
      "μ(S(x,y) | ¬P(x) ∧ Q(y) ∧ ¬Q(x) ∧ R(x,y) ∧ P(y)) = undefined\n",
      "μ(S(x,y) | ¬P(x) ∧ Q(y) ∧ ¬Q(x) ∧ R(x,y) ∧ ¬P(y)) = undefined\n",
      "μ(S(x,y) | ¬P(x) ∧ Q(y) ∧ ¬Q(x) ∧ ¬R(x,y) ∧ P(y)) = 0\n",
      "μ(S(x,y) | ¬P(x) ∧ Q(y) ∧ ¬Q(x) ∧ ¬R(x,y) ∧ ¬P(y)) = 0\n",
      "μ(S(x,y) | ¬P(x) ∧ ¬Q(y) ∧ Q(x) ∧ R(x,y) ∧ P(y)) = undefined\n",
      "μ(S(x,y) | ¬P(x) ∧ ¬Q(y) ∧ Q(x) ∧ R(x,y) ∧ ¬P(y)) = undefined\n",
      "μ(S(x,y) | ¬P(x) ∧ ¬Q(y) ∧ Q(x) ∧ ¬R(x,y) ∧ P(y)) = 0\n",
      "μ(S(x,y) | ¬P(x) ∧ ¬Q(y) ∧ Q(x) ∧ ¬R(x,y) ∧ ¬P(y)) = 0\n",
      "μ(S(x,y) | ¬P(x) ∧ ¬Q(y) ∧ ¬Q(x) ∧ R(x,y) ∧ P(y)) = undefined\n",
      "μ(S(x,y) | ¬P(x) ∧ ¬Q(y) ∧ ¬Q(x) ∧ R(x,y) ∧ ¬P(y)) = undefined\n",
      "μ(S(x,y) | ¬P(x) ∧ ¬Q(y) ∧ ¬Q(x) ∧ ¬R(x,y) ∧ P(y)) = 0\n",
      "μ(S(x,y) | ¬P(x) ∧ ¬Q(y) ∧ ¬Q(x) ∧ ¬R(x,y) ∧ ¬P(y)) = 0\n",
      "--------------------\n",
      "μ(R(x,y) | P(y) ∧ Q(x) ∧ P(x) ∧ Q(y)) = 1\n",
      "μ(R(x,y) | P(y) ∧ Q(x) ∧ P(x) ∧ ¬Q(y)) = 0\n",
      "μ(R(x,y) | P(y) ∧ Q(x) ∧ ¬P(x) ∧ Q(y)) = 0\n",
      "μ(R(x,y) | P(y) ∧ Q(x) ∧ ¬P(x) ∧ ¬Q(y)) = 0\n",
      "μ(R(x,y) | P(y) ∧ ¬Q(x) ∧ P(x) ∧ Q(y)) = 0\n",
      "μ(R(x,y) | P(y) ∧ ¬Q(x) ∧ P(x) ∧ ¬Q(y)) = 0\n",
      "μ(R(x,y) | P(y) ∧ ¬Q(x) ∧ ¬P(x) ∧ Q(y)) = 0\n",
      "μ(R(x,y) | P(y) ∧ ¬Q(x) ∧ ¬P(x) ∧ ¬Q(y)) = 0\n",
      "μ(R(x,y) | ¬P(y) ∧ Q(x) ∧ P(x) ∧ Q(y)) = 0\n",
      "μ(R(x,y) | ¬P(y) ∧ Q(x) ∧ P(x) ∧ ¬Q(y)) = 0\n",
      "μ(R(x,y) | ¬P(y) ∧ Q(x) ∧ ¬P(x) ∧ Q(y)) = 0\n",
      "μ(R(x,y) | ¬P(y) ∧ Q(x) ∧ ¬P(x) ∧ ¬Q(y)) = 0\n",
      "μ(R(x,y) | ¬P(y) ∧ ¬Q(x) ∧ P(x) ∧ Q(y)) = 0\n",
      "μ(R(x,y) | ¬P(y) ∧ ¬Q(x) ∧ P(x) ∧ ¬Q(y)) = 0\n",
      "μ(R(x,y) | ¬P(y) ∧ ¬Q(x) ∧ ¬P(x) ∧ Q(y)) = 0\n",
      "μ(R(x,y) | ¬P(y) ∧ ¬Q(x) ∧ ¬P(x) ∧ ¬Q(y)) = 0\n",
      "--------------------\n",
      "μ(T(x,y) | P(x) ∧ Q(y) ∧ S(x,y) ∧ Q(x) ∧ R(x,y) ∧ P(y)) = 1/2\n",
      "μ(T(x,y) | P(x) ∧ Q(y) ∧ S(x,y) ∧ Q(x) ∧ R(x,y) ∧ ¬P(y)) = undefined\n",
      "μ(T(x,y) | P(x) ∧ Q(y) ∧ S(x,y) ∧ Q(x) ∧ ¬R(x,y) ∧ P(y)) = undefined\n",
      "μ(T(x,y) | P(x) ∧ Q(y) ∧ S(x,y) ∧ Q(x) ∧ ¬R(x,y) ∧ ¬P(y)) = undefined\n",
      "μ(T(x,y) | P(x) ∧ Q(y) ∧ S(x,y) ∧ ¬Q(x) ∧ R(x,y) ∧ P(y)) = undefined\n",
      "μ(T(x,y) | P(x) ∧ Q(y) ∧ S(x,y) ∧ ¬Q(x) ∧ R(x,y) ∧ ¬P(y)) = undefined\n",
      "μ(T(x,y) | P(x) ∧ Q(y) ∧ S(x,y) ∧ ¬Q(x) ∧ ¬R(x,y) ∧ P(y)) = undefined\n",
      "μ(T(x,y) | P(x) ∧ Q(y) ∧ S(x,y) ∧ ¬Q(x) ∧ ¬R(x,y) ∧ ¬P(y)) = undefined\n",
      "μ(T(x,y) | P(x) ∧ Q(y) ∧ ¬S(x,y) ∧ Q(x) ∧ R(x,y) ∧ P(y)) = 1/2\n",
      "μ(T(x,y) | P(x) ∧ Q(y) ∧ ¬S(x,y) ∧ Q(x) ∧ R(x,y) ∧ ¬P(y)) = undefined\n",
      "μ(T(x,y) | P(x) ∧ Q(y) ∧ ¬S(x,y) ∧ Q(x) ∧ ¬R(x,y) ∧ P(y)) = undefined\n",
      "μ(T(x,y) | P(x) ∧ Q(y) ∧ ¬S(x,y) ∧ Q(x) ∧ ¬R(x,y) ∧ ¬P(y)) = 0\n",
      "μ(T(x,y) | P(x) ∧ Q(y) ∧ ¬S(x,y) ∧ ¬Q(x) ∧ R(x,y) ∧ P(y)) = undefined\n",
      "μ(T(x,y) | P(x) ∧ Q(y) ∧ ¬S(x,y) ∧ ¬Q(x) ∧ R(x,y) ∧ ¬P(y)) = undefined\n",
      "μ(T(x,y) | P(x) ∧ Q(y) ∧ ¬S(x,y) ∧ ¬Q(x) ∧ ¬R(x,y) ∧ P(y)) = 0\n",
      "μ(T(x,y) | P(x) ∧ Q(y) ∧ ¬S(x,y) ∧ ¬Q(x) ∧ ¬R(x,y) ∧ ¬P(y)) = 0\n",
      "μ(T(x,y) | P(x) ∧ ¬Q(y) ∧ S(x,y) ∧ Q(x) ∧ R(x,y) ∧ P(y)) = undefined\n",
      "μ(T(x,y) | P(x) ∧ ¬Q(y) ∧ S(x,y) ∧ Q(x) ∧ R(x,y) ∧ ¬P(y)) = undefined\n",
      "μ(T(x,y) | P(x) ∧ ¬Q(y) ∧ S(x,y) ∧ Q(x) ∧ ¬R(x,y) ∧ P(y)) = undefined\n",
      "μ(T(x,y) | P(x) ∧ ¬Q(y) ∧ S(x,y) ∧ Q(x) ∧ ¬R(x,y) ∧ ¬P(y)) = undefined\n",
      "μ(T(x,y) | P(x) ∧ ¬Q(y) ∧ S(x,y) ∧ ¬Q(x) ∧ R(x,y) ∧ P(y)) = undefined\n",
      "μ(T(x,y) | P(x) ∧ ¬Q(y) ∧ S(x,y) ∧ ¬Q(x) ∧ R(x,y) ∧ ¬P(y)) = undefined\n",
      "μ(T(x,y) | P(x) ∧ ¬Q(y) ∧ S(x,y) ∧ ¬Q(x) ∧ ¬R(x,y) ∧ P(y)) = undefined\n",
      "μ(T(x,y) | P(x) ∧ ¬Q(y) ∧ S(x,y) ∧ ¬Q(x) ∧ ¬R(x,y) ∧ ¬P(y)) = undefined\n",
      "μ(T(x,y) | P(x) ∧ ¬Q(y) ∧ ¬S(x,y) ∧ Q(x) ∧ R(x,y) ∧ P(y)) = undefined\n",
      "μ(T(x,y) | P(x) ∧ ¬Q(y) ∧ ¬S(x,y) ∧ Q(x) ∧ R(x,y) ∧ ¬P(y)) = undefined\n",
      "μ(T(x,y) | P(x) ∧ ¬Q(y) ∧ ¬S(x,y) ∧ Q(x) ∧ ¬R(x,y) ∧ P(y)) = 0\n",
      "μ(T(x,y) | P(x) ∧ ¬Q(y) ∧ ¬S(x,y) ∧ Q(x) ∧ ¬R(x,y) ∧ ¬P(y)) = 0\n",
      "μ(T(x,y) | P(x) ∧ ¬Q(y) ∧ ¬S(x,y) ∧ ¬Q(x) ∧ R(x,y) ∧ P(y)) = undefined\n",
      "μ(T(x,y) | P(x) ∧ ¬Q(y) ∧ ¬S(x,y) ∧ ¬Q(x) ∧ R(x,y) ∧ ¬P(y)) = undefined\n",
      "μ(T(x,y) | P(x) ∧ ¬Q(y) ∧ ¬S(x,y) ∧ ¬Q(x) ∧ ¬R(x,y) ∧ P(y)) = 0\n",
      "μ(T(x,y) | P(x) ∧ ¬Q(y) ∧ ¬S(x,y) ∧ ¬Q(x) ∧ ¬R(x,y) ∧ ¬P(y)) = 0\n",
      "μ(T(x,y) | ¬P(x) ∧ Q(y) ∧ S(x,y) ∧ Q(x) ∧ R(x,y) ∧ P(y)) = undefined\n",
      "μ(T(x,y) | ¬P(x) ∧ Q(y) ∧ S(x,y) ∧ Q(x) ∧ R(x,y) ∧ ¬P(y)) = undefined\n",
      "μ(T(x,y) | ¬P(x) ∧ Q(y) ∧ S(x,y) ∧ Q(x) ∧ ¬R(x,y) ∧ P(y)) = undefined\n",
      "μ(T(x,y) | ¬P(x) ∧ Q(y) ∧ S(x,y) ∧ Q(x) ∧ ¬R(x,y) ∧ ¬P(y)) = undefined\n",
      "μ(T(x,y) | ¬P(x) ∧ Q(y) ∧ S(x,y) ∧ ¬Q(x) ∧ R(x,y) ∧ P(y)) = undefined\n",
      "μ(T(x,y) | ¬P(x) ∧ Q(y) ∧ S(x,y) ∧ ¬Q(x) ∧ R(x,y) ∧ ¬P(y)) = undefined\n",
      "μ(T(x,y) | ¬P(x) ∧ Q(y) ∧ S(x,y) ∧ ¬Q(x) ∧ ¬R(x,y) ∧ P(y)) = undefined\n",
      "μ(T(x,y) | ¬P(x) ∧ Q(y) ∧ S(x,y) ∧ ¬Q(x) ∧ ¬R(x,y) ∧ ¬P(y)) = undefined\n",
      "μ(T(x,y) | ¬P(x) ∧ Q(y) ∧ ¬S(x,y) ∧ Q(x) ∧ R(x,y) ∧ P(y)) = undefined\n",
      "μ(T(x,y) | ¬P(x) ∧ Q(y) ∧ ¬S(x,y) ∧ Q(x) ∧ R(x,y) ∧ ¬P(y)) = undefined\n",
      "μ(T(x,y) | ¬P(x) ∧ Q(y) ∧ ¬S(x,y) ∧ Q(x) ∧ ¬R(x,y) ∧ P(y)) = 0\n",
      "μ(T(x,y) | ¬P(x) ∧ Q(y) ∧ ¬S(x,y) ∧ Q(x) ∧ ¬R(x,y) ∧ ¬P(y)) = 0\n",
      "μ(T(x,y) | ¬P(x) ∧ Q(y) ∧ ¬S(x,y) ∧ ¬Q(x) ∧ R(x,y) ∧ P(y)) = undefined\n",
      "μ(T(x,y) | ¬P(x) ∧ Q(y) ∧ ¬S(x,y) ∧ ¬Q(x) ∧ R(x,y) ∧ ¬P(y)) = undefined\n",
      "μ(T(x,y) | ¬P(x) ∧ Q(y) ∧ ¬S(x,y) ∧ ¬Q(x) ∧ ¬R(x,y) ∧ P(y)) = 0\n",
      "μ(T(x,y) | ¬P(x) ∧ Q(y) ∧ ¬S(x,y) ∧ ¬Q(x) ∧ ¬R(x,y) ∧ ¬P(y)) = 0\n",
      "μ(T(x,y) | ¬P(x) ∧ ¬Q(y) ∧ S(x,y) ∧ Q(x) ∧ R(x,y) ∧ P(y)) = undefined\n",
      "μ(T(x,y) | ¬P(x) ∧ ¬Q(y) ∧ S(x,y) ∧ Q(x) ∧ R(x,y) ∧ ¬P(y)) = undefined\n",
      "μ(T(x,y) | ¬P(x) ∧ ¬Q(y) ∧ S(x,y) ∧ Q(x) ∧ ¬R(x,y) ∧ P(y)) = undefined\n",
      "μ(T(x,y) | ¬P(x) ∧ ¬Q(y) ∧ S(x,y) ∧ Q(x) ∧ ¬R(x,y) ∧ ¬P(y)) = undefined\n",
      "μ(T(x,y) | ¬P(x) ∧ ¬Q(y) ∧ S(x,y) ∧ ¬Q(x) ∧ R(x,y) ∧ P(y)) = undefined\n",
      "μ(T(x,y) | ¬P(x) ∧ ¬Q(y) ∧ S(x,y) ∧ ¬Q(x) ∧ R(x,y) ∧ ¬P(y)) = undefined\n",
      "μ(T(x,y) | ¬P(x) ∧ ¬Q(y) ∧ S(x,y) ∧ ¬Q(x) ∧ ¬R(x,y) ∧ P(y)) = undefined\n",
      "μ(T(x,y) | ¬P(x) ∧ ¬Q(y) ∧ S(x,y) ∧ ¬Q(x) ∧ ¬R(x,y) ∧ ¬P(y)) = undefined\n",
      "μ(T(x,y) | ¬P(x) ∧ ¬Q(y) ∧ ¬S(x,y) ∧ Q(x) ∧ R(x,y) ∧ P(y)) = undefined\n",
      "μ(T(x,y) | ¬P(x) ∧ ¬Q(y) ∧ ¬S(x,y) ∧ Q(x) ∧ R(x,y) ∧ ¬P(y)) = undefined\n",
      "μ(T(x,y) | ¬P(x) ∧ ¬Q(y) ∧ ¬S(x,y) ∧ Q(x) ∧ ¬R(x,y) ∧ P(y)) = 0\n",
      "μ(T(x,y) | ¬P(x) ∧ ¬Q(y) ∧ ¬S(x,y) ∧ Q(x) ∧ ¬R(x,y) ∧ ¬P(y)) = 0\n",
      "μ(T(x,y) | ¬P(x) ∧ ¬Q(y) ∧ ¬S(x,y) ∧ ¬Q(x) ∧ R(x,y) ∧ P(y)) = undefined\n",
      "μ(T(x,y) | ¬P(x) ∧ ¬Q(y) ∧ ¬S(x,y) ∧ ¬Q(x) ∧ R(x,y) ∧ ¬P(y)) = undefined\n",
      "μ(T(x,y) | ¬P(x) ∧ ¬Q(y) ∧ ¬S(x,y) ∧ ¬Q(x) ∧ ¬R(x,y) ∧ P(y)) = 0\n",
      "μ(T(x,y) | ¬P(x) ∧ ¬Q(y) ∧ ¬S(x,y) ∧ ¬Q(x) ∧ ¬R(x,y) ∧ ¬P(y)) = 0\n",
      "--------------------\n"
     ]
    },
    {
     "data": {
      "image/png": "[encoded data removed]",
      "text/plain": [
       "<Figure size 640x480 with 1 Axes>"
      ]
     },
     "metadata": {},
     "output_type": "display_data"
    }
   ],
   "source": [
    "phi = [\n",
    "    Target('P','x'), \n",
    "    Target('P', 'y', 1), \n",
    "    Target('Q', 'x'), \n",
    "    Target('Q', 'y', 1), \n",
    "    Target('R', 'x,y'),\n",
    "    Target('S', 'x,y'),\n",
    "    Target('T', 'x,y'),\n",
    "]\n",
    "basian_network = build_lifted_network(M, phi, relations, arity=2)\n",
    "basian_network.table()\n",
    "basian_network.draw()\n",
    "plt.show()"
   ]
  },
  {
   "cell_type": "markdown",
   "metadata": {},
   "source": [
    "#### Answer 3\n",
    "\n",
    "This was a massive Basian Network. However it make sense, from the previous assignment we learn concept $P(x0) ∧ P(x1) ∧ Q(x0) ∧ Q(x1) <-> R(x0,x1)$ this is present in the network and it confirms the equivalence of the concept since the conditional probability of $μ(R(x,y) | Q(y) ∧ P(x) ∧ P(y) ∧ Q(x))$ is 1.\n",
    "\n",
    "Following up on the rest $R(x,y), S(x,y), T(x,y)$ we can se that there is a lot of state overlap in the data and that the dependency are arbitrary and are mostly dependent on the algorithm and the order that we used to construct the network.\n"
   ]
  },
  {
   "cell_type": "markdown",
   "metadata": {},
   "source": [
    "#### Incomplete Data\n",
    "\n",
    "Lets start at figure 5.7 in Logic_and_probability_7.pdf and see if we can implement the EM algorithm. \n",
    "\n"
   ]
  },
  {
   "cell_type": "code",
   "execution_count": 35,
   "metadata": {},
   "outputs": [],
   "source": [
    "def EM_algorithm(data, p0, iterations=10):\n",
    "    # lets initialize the parameters\n",
    "    p = p0\n",
    "    number_of_variables = len(data)\n",
    "    truth = len(list(filter(lambda x: x, data)))\n",
    "    unk = len(list(filter(lambda x: x is None, data)))\n",
    "    none_truth = len(list(filter(lambda x: not x and x is not None, data)))\n",
    "    assert truth + unk + none_truth == number_of_variables, f'{truth} + {unk} + {none_truth} != {number_of_variables}'\n",
    "    results = [p]\n",
    "    # lets iterate\n",
    "    for i in range(iterations):\n",
    "        # lets compute the expected values\n",
    "        p = (truth + unk*p)/(number_of_variables)\n",
    "        results.append(p)\n",
    "    return results\n",
    "\n",
    "def compute_likelihood(data):\n",
    "    truth = len(list(filter(lambda x: x, data)))\n",
    "    none_truth = len(list(filter(lambda x: not x and x is not None, data)))\n",
    "    return truth/(truth+none_truth)\n"
   ]
  },
  {
   "cell_type": "code",
   "execution_count": 36,
   "metadata": {},
   "outputs": [
    {
     "name": "stdout",
     "output_type": "stream",
     "text": [
      "μ(I1(x))\n",
      "EM algorithm:\n",
      "0.1000 -> 0.4333 -> 0.4889 -> 0.4981 -> 0.4997 -> 0.4999 -> 0.5000\n",
      "Computed Likelihood:\n",
      "0.5000\n"
     ]
    }
   ],
   "source": [
    "customer = ['A', 'B', 'C', 'D', 'E', 'F', 'G', 'H', 'I', 'J', 'K', 'L']\n",
    "# This is a copy of the table in the figure 5.7 in Logic_and_probability_7.pdf where None is unknown\n",
    "I1C = [True, False, None, True, False, True, True, False, False, None, False, True]\n",
    "I2C = [False, True, False, True, False, False, True, False, True, True, False, True]\n",
    "I3C = [True, False, True, True, False, True, None, False, True, True, True, True]\n",
    "\n",
    "print('μ(I1(x))')\n",
    "data = I1C\n",
    "p0 = 0.1\n",
    "res = EM_algorithm(data, p0, iterations=6)\n",
    "print('EM algorithm:')\n",
    "print(' -> '.join(map(lambda x: f'{x:.4f}', res)))\n",
    "\n",
    "print(f'Computed Likelihood:\\n{compute_likelihood(data):.4f}')"
   ]
  },
  {
   "cell_type": "code",
   "execution_count": 37,
   "metadata": {},
   "outputs": [
    {
     "name": "stdout",
     "output_type": "stream",
     "text": [
      "μ(I3(x))\n",
      "EM algorithm:\n",
      "0.1000 -> 0.6750 -> 0.7229 -> 0.7269 -> 0.7272 -> 0.7273\n",
      "Computed Likelihood:\n",
      "0.7273\n"
     ]
    }
   ],
   "source": [
    "print('μ(I3(x))')\n",
    "data = I3C\n",
    "p0 = 0.1\n",
    "res = EM_algorithm(data, p0, iterations=5)\n",
    "print('EM algorithm:')\n",
    "print(' -> '.join(map(lambda x: f'{x:.4f}', res)))\n",
    "\n",
    "print(f'Computed Likelihood:\\n{compute_likelihood(data):.4f}')"
   ]
  },
  {
   "cell_type": "code",
   "execution_count": 38,
   "metadata": {},
   "outputs": [
    {
     "name": "stdout",
     "output_type": "stream",
     "text": [
      "μ(I3(x) | I1(x)) = μ(I3(x) ∧ I1(x)) / μ(I1(x)) = (4/9)/(1/2) = 8/9\n"
     ]
    }
   ],
   "source": [
    "data = list(map(lambda x: all(x),  filter(lambda x: not None in x,  zip(I3C, I1C))))\n",
    "p0 = 1\n",
    "i3_i1 = compute_likelihood(data)\n",
    "i1 = compute_likelihood(I1C)\n",
    "\n",
    "print(f'μ(I3(x) | I1(x)) = μ(I3(x) ∧ I1(x)) / μ(I1(x)) = ({Fraction(i3_i1).limit_denominator(100)})/({Fraction(i1).limit_denominator(100)}) = {Fraction(i3_i1/i1).limit_denominator(100)}')\n"
   ]
  },
  {
   "cell_type": "markdown",
   "metadata": {},
   "source": [
    "We can se that the iterative algorithm converges fast. However it is faster to just use the closed form solution.\n",
    "\n",
    "Lets apply it to the data in the assignment.\n",
    "\n"
   ]
  },
  {
   "cell_type": "markdown",
   "metadata": {},
   "source": [
    "#### Assignment 4\n",
    "Now assume that for each of the pairs (1,4),(5,10),(14,6) and (3,5) we do not know if it belongs to RM or not, and for each of the pairs (4,3),(1,3) and (6,8) we do not know if it belongs to SM or not, but otherwise all assumptions are as before.\n",
    "\n",
    "Estimate μ(R(x,y)) (also denoted μ(R = 1)) and μ(S(x,y) | R(x,y)) (also denoted μ(S = 1 | R = 1)) by the methods described in Chapter 5.3."
   ]
  },
  {
   "cell_type": "code",
   "execution_count": 39,
   "metadata": {},
   "outputs": [
    {
     "name": "stdout",
     "output_type": "stream",
     "text": [
      "Estimate μ(R(x,y))\n",
      "EM algorithm:\n",
      "0.5000 -> 0.0526 -> 0.0479 -> 0.0479 -> 0.0479 -> 0.0479\n",
      "Computed Likelihood:\n",
      "0.0479\n"
     ]
    }
   ],
   "source": [
    "print(\"Estimate μ(R(x,y))\")\n",
    "all_r = {n: False for n in full_uniq(M, 2)}\n",
    "all_r.update({n.args: True for n in relations['R']}) # Set the True values\n",
    "all_r.update({n: None for n in [(1,4),(5,10),(14,6),(3,5)]}) # Set the unknown values\n",
    "\n",
    "res = EM_algorithm(list(all_r.values()), 0.5, iterations=5)\n",
    "print('EM algorithm:')\n",
    "print(' -> '.join(map(lambda x: f'{x:.4f}', res)))\n",
    "\n",
    "print(f'Computed Likelihood:\\n{compute_likelihood(list(all_r.values())):.4f}')\n"
   ]
  },
  {
   "cell_type": "code",
   "execution_count": 40,
   "metadata": {},
   "outputs": [
    {
     "name": "stdout",
     "output_type": "stream",
     "text": [
      "Estimate μ(S(x,y) | R(x,y))\n",
      "μ(S(x,y) | R(x,y)) = μ(S(x,y) ∧ R(x,y)) / μ(R(x,y)) = (1/53)/(1/21) = 0.3920\n"
     ]
    }
   ],
   "source": [
    "print(\"Estimate μ(S(x,y) | R(x,y))\")\n",
    "all_s = {n: False for n in full_uniq(M, 2)}\n",
    "all_s.update({n.args: True for n in relations['S']}) # Set the True values\n",
    "all_s.update({n: None for n in [(4,3),(1,3),(6,8)]}) # Set the unknown values\n",
    "\n",
    "s_r = compute_likelihood(list(map(lambda x: all(x),  filter(lambda x: not None in x,  zip(all_s.values(), all_r.values())))))\n",
    "r = compute_likelihood(list(all_r.values()))\n",
    "print(f'μ(S(x,y) | R(x,y)) = μ(S(x,y) ∧ R(x,y)) / μ(R(x,y)) = ({Fraction(s_r).limit_denominator(100)})/({Fraction(r).limit_denominator(100)}) = {s_r/r:.4f}')\n",
    "\n"
   ]
  },
  {
   "cell_type": "markdown",
   "metadata": {},
   "source": [
    "#### Answer 4\n",
    "\n",
    "Estimating $μ(R(x,y))$ with 5 iteration of EM algorithm with p0 of 0.5 gives us the following result:\n",
    "\n",
    "0.5000 -> 0.0526 -> 0.0479 -> 0.0479 -> 0.0479 -> 0.0479\n",
    "\n",
    "\n",
    "Computed the likelihood gives us 0.0479\n",
    "\n",
    "we can se that we have converged to the same result after 2 iterations.\n",
    "\n",
    "Estimating $μ(S(x,y) | R(x,y))$ we rewrite the formula to $\\frac{μ(S(x,y) ∧ R(x,y))}{μ(R(x,y))}$ and we get the following result:\n",
    "\n",
    "$μ(S(x,y) | R(x,y)) = \\frac{μ(S(x,y) ∧ R(x,y))}{μ(R(x,y))} \\approx  \\frac{1/53}{1/21}  \\approx 0.3920$\n",
    "\n",
    "You have to excuse me for the fraction approximation. I did not want to calculate the fraction by hand.  "
   ]
  },
  {
   "cell_type": "markdown",
   "metadata": {},
   "source": [
    "#### Assignment 5\n",
    "\n",
    "(Inference/prediction) Let G denote the Bayesian network constructed in assignment 3. Let Dn= {1,...,n} be a domain. Let Wn be the set of all L-structures with domain Dn. For each positive integer n, the Bayesian network G determines a probability distribution Pn on Wn in the way explained by examples in sections 4.2.9, 5.2.1 and 5.2.2. (If one uses the approach in Chapter 6 then Definition 6.2.5 tells how G determines a probability distribution on Wn. However, it is important to understand what that definition means in the case of the concrete Bayesian network obtained in assignment 3.) Material on the slides from the lectures may also be of help to understand how one can reason about the distribution Pn on Wn.\n",
    "\n",
    "Since we are interested in results for large n you can choose some lower bound to n\n",
    "if you need it.\n",
    "\n",
    "(a) Suppose that a,b ∈ Dn and a ̸= b. Let Pn(R(a,b)) b e an abbreviation of Pn({A ∈ Wn: A |= R(a,b)}), and similarly for S in place of R. Determine Pn(R(a,b)) and Pn(S(a,b)) and show how you get to your conclusions.\n",
    "\n",
    "(b) For any first-order sentence φ let Pn(φ) b e an abbreviation of Pn({A ∈ Wn: A |= φ}). Determine limn→∞Pn (∀x∃y∃z(S(x,y) ∧¬S(x,z)))and show how you get your conclusion\n"
   ]
  },
  {
   "cell_type": "markdown",
   "metadata": {},
   "source": [
    "#### Answer 5a\n",
    "\n",
    "I must be honest with you. I did not understand the topic for this assignment, however i will try to answer it to the best of my ability. But it fells like i am missing some crucial understanding of the topic. Lets not give up! Lets try to solve it!\n",
    "\n",
    "Determining $Pn(R(a,b))$ given $G$ and $a,b ∈ Dn$ and $a \\ne b$ conditional probabilities, R(x,y) is influenced by P(x), P(y), Q(x), and Q(y). We can calculate Pn(R(a,b)) using these influences. Since $μ(R(x,y)∣ P(y) ∧ Q(x) ∧ P(x) ∧ Q(y)) = 1$, and other conditions lead to $μ(R(x,y)∣…) = 0$, we only need to consider the scenario where all influencing variables are True.\n",
    "\n",
    "Since $μ(P(x))=μ(P(y))=μ(Q(x))=μ(Q(y))=1/2$, the probability of all these being true simultaneously is $\\frac{1}{2^4} = \\frac{1}{16}$. Therefore, $Pn(R(a,b))=\\frac{1}{16}$.\n",
    "\n",
    "\n",
    "Determining $Pn(S(a,b))$ given $G$ and $a,b ∈ Dn$ and $a \\ne b$ conditional probabilities, S(x,y) is influenced by P(x), P(y), Q(x), Q(y) and R(x,y). We have the following probabilities from the conditional probability tables (CPTs):\n",
    "\n",
    "$μ(P(x) = 1)=μ(P(y) = 1)=μ(Q(x) = 1)=μ(Q(y) = 1)=1/2$ \n",
    "\n",
    "$μ(R(x,y) = 1)=1/16$\n",
    "\n",
    "The exist one valid scenario where S(x,y) is true and that is when $R(x,y) = 1$ and $μ(S(x,y)∣ R(x,y)) = 1/2$. Therefore, $Pn(S(a,b))=\\frac{1}{16}*\\frac{1}{2} = \\frac{1}{32}$. \n",
    "\n",
    "\n",
    "#### Answer 5b\n",
    "\n",
    "To be honest im not sure how to start this one. Hopefully i will not need the points from this assignment to pass the course. But if I have to understand this i will allot more material to work with it. This feel a bit to fluffy for me. :("
   ]
  }
 ],
 "metadata": {
  "kernelspec": {
   "display_name": "Python 3 (ipykernel)",
   "language": "python",
   "name": "python3"
  },
  "language_info": {
   "codemirror_mode": {
    "name": "ipython",
    "version": 3
   },
   "file_extension": ".py",
   "mimetype": "text/x-python",
   "name": "python",
   "nbconvert_exporter": "python",
   "pygments_lexer": "ipython3",
   "version": "3.10.11"
  }
 },
 "nbformat": 4,
 "nbformat_minor": 2
}
